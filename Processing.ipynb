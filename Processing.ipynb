{
 "cells": [
  {
   "cell_type": "code",
   "execution_count": 1,
   "metadata": {},
   "outputs": [],
   "source": [
    "import numpy as np\n",
    "import pandas as pd"
   ]
  },
  {
   "cell_type": "code",
   "execution_count": 3,
   "metadata": {},
   "outputs": [],
   "source": [
    "data_dir = '/Users/ksivanathan/Desktop/USF/DataViz/DataVizProject/Datasets/'"
   ]
  },
  {
   "cell_type": "code",
   "execution_count": 4,
   "metadata": {},
   "outputs": [],
   "source": [
    "dc = pd.read_csv(data_dir + 'dc_data.csv')\n",
    "marvel = pd.read_csv(data_dir + 'marvel_data.csv')\n",
    "powers = pd.read_csv(data_dir + 'superhero_powers.csv')\n",
    "stats = pd.read_csv(data_dir + 'superhero_stats.csv')"
   ]
  },
  {
   "cell_type": "code",
   "execution_count": 12,
   "metadata": {},
   "outputs": [
    {
     "data": {
      "text/plain": [
       "Index(['Unnamed: 0', 'Unnamed: 0.1', 'Name', 'Url', 'Intelligence', 'Strength',\n",
       "       'Speed', 'Durability', 'Power', 'Combat', 'Full name', 'Alter Egos',\n",
       "       'Aliases', 'Place of birth', 'First appearance', 'Creator', 'Alignment',\n",
       "       'Gender', 'Race', 'Height', 'Weight', 'Eye color', 'Hair color',\n",
       "       'Occupation', 'Base', 'Team Affiliation', 'Relatives', 'Skin color',\n",
       "       'Total Power'],\n",
       "      dtype='object')"
      ]
     },
     "execution_count": 12,
     "metadata": {},
     "output_type": "execute_result"
    }
   ],
   "source": [
    "stats.columns"
   ]
  },
  {
   "cell_type": "code",
   "execution_count": null,
   "metadata": {},
   "outputs": [],
   "source": []
  }
 ],
 "metadata": {
  "kernelspec": {
   "display_name": "Python 3",
   "language": "python",
   "name": "python3"
  },
  "language_info": {
   "codemirror_mode": {
    "name": "ipython",
    "version": 3
   },
   "file_extension": ".py",
   "mimetype": "text/x-python",
   "name": "python",
   "nbconvert_exporter": "python",
   "pygments_lexer": "ipython3",
   "version": "3.7.6"
  }
 },
 "nbformat": 4,
 "nbformat_minor": 4
}
