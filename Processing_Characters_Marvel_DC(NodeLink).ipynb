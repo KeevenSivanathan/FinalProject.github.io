{
 "cells": [
  {
   "cell_type": "code",
   "execution_count": 62,
   "metadata": {},
   "outputs": [],
   "source": [
    "import pandas as pd\n",
    "from sklearn import preprocessing"
   ]
  },
  {
   "cell_type": "code",
   "execution_count": 63,
   "metadata": {},
   "outputs": [],
   "source": [
    "data_dir = '/Users/ksivanathan/Desktop/USF/DataViz/FinalProject_Comics/Datasets/'"
   ]
  },
  {
   "cell_type": "markdown",
   "metadata": {},
   "source": [
    "### Marvel Dataset"
   ]
  },
  {
   "cell_type": "code",
   "execution_count": 247,
   "metadata": {},
   "outputs": [],
   "source": [
    "marvel = pd.read_csv(data_dir + 'marvel_data_OG.csv')"
   ]
  },
  {
   "cell_type": "code",
   "execution_count": 248,
   "metadata": {},
   "outputs": [
    {
     "data": {
      "text/html": [
       "<div>\n",
       "<style scoped>\n",
       "    .dataframe tbody tr th:only-of-type {\n",
       "        vertical-align: middle;\n",
       "    }\n",
       "\n",
       "    .dataframe tbody tr th {\n",
       "        vertical-align: top;\n",
       "    }\n",
       "\n",
       "    .dataframe thead th {\n",
       "        text-align: right;\n",
       "    }\n",
       "</style>\n",
       "<table border=\"1\" class=\"dataframe\">\n",
       "  <thead>\n",
       "    <tr style=\"text-align: right;\">\n",
       "      <th></th>\n",
       "      <th>page_id</th>\n",
       "      <th>name</th>\n",
       "      <th>urlslug</th>\n",
       "      <th>ID</th>\n",
       "      <th>ALIGN</th>\n",
       "      <th>EYE</th>\n",
       "      <th>HAIR</th>\n",
       "      <th>SEX</th>\n",
       "      <th>GSM</th>\n",
       "      <th>ALIVE</th>\n",
       "      <th>APPEARANCES</th>\n",
       "      <th>FIRST APPEARANCE</th>\n",
       "      <th>Year</th>\n",
       "    </tr>\n",
       "  </thead>\n",
       "  <tbody>\n",
       "    <tr>\n",
       "      <th>0</th>\n",
       "      <td>1678</td>\n",
       "      <td>Spider-Man (Peter Parker)</td>\n",
       "      <td>\\/Spider-Man_(Peter_Parker)</td>\n",
       "      <td>Secret Identity</td>\n",
       "      <td>Good Characters</td>\n",
       "      <td>Hazel Eyes</td>\n",
       "      <td>Brown Hair</td>\n",
       "      <td>Male Characters</td>\n",
       "      <td>NaN</td>\n",
       "      <td>Living Characters</td>\n",
       "      <td>4043.0</td>\n",
       "      <td>Aug-62</td>\n",
       "      <td>1962.0</td>\n",
       "    </tr>\n",
       "    <tr>\n",
       "      <th>1</th>\n",
       "      <td>7139</td>\n",
       "      <td>Captain America (Steven Rogers)</td>\n",
       "      <td>\\/Captain_America_(Steven_Rogers)</td>\n",
       "      <td>Public Identity</td>\n",
       "      <td>Good Characters</td>\n",
       "      <td>Blue Eyes</td>\n",
       "      <td>White Hair</td>\n",
       "      <td>Male Characters</td>\n",
       "      <td>NaN</td>\n",
       "      <td>Living Characters</td>\n",
       "      <td>3360.0</td>\n",
       "      <td>Mar-41</td>\n",
       "      <td>1941.0</td>\n",
       "    </tr>\n",
       "    <tr>\n",
       "      <th>2</th>\n",
       "      <td>64786</td>\n",
       "      <td>Wolverine (James \\\"Logan\\\" Howlett)</td>\n",
       "      <td>\\/Wolverine_(James_%22Logan%22_Howlett)</td>\n",
       "      <td>Public Identity</td>\n",
       "      <td>Neutral Characters</td>\n",
       "      <td>Blue Eyes</td>\n",
       "      <td>Black Hair</td>\n",
       "      <td>Male Characters</td>\n",
       "      <td>NaN</td>\n",
       "      <td>Living Characters</td>\n",
       "      <td>3061.0</td>\n",
       "      <td>Oct-74</td>\n",
       "      <td>1974.0</td>\n",
       "    </tr>\n",
       "    <tr>\n",
       "      <th>3</th>\n",
       "      <td>1868</td>\n",
       "      <td>Iron Man (Anthony \\\"Tony\\\" Stark)</td>\n",
       "      <td>\\/Iron_Man_(Anthony_%22Tony%22_Stark)</td>\n",
       "      <td>Public Identity</td>\n",
       "      <td>Good Characters</td>\n",
       "      <td>Blue Eyes</td>\n",
       "      <td>Black Hair</td>\n",
       "      <td>Male Characters</td>\n",
       "      <td>NaN</td>\n",
       "      <td>Living Characters</td>\n",
       "      <td>2961.0</td>\n",
       "      <td>Mar-63</td>\n",
       "      <td>1963.0</td>\n",
       "    </tr>\n",
       "    <tr>\n",
       "      <th>4</th>\n",
       "      <td>2460</td>\n",
       "      <td>Thor (Thor Odinson)</td>\n",
       "      <td>\\/Thor_(Thor_Odinson)</td>\n",
       "      <td>No Dual Identity</td>\n",
       "      <td>Good Characters</td>\n",
       "      <td>Blue Eyes</td>\n",
       "      <td>Blond Hair</td>\n",
       "      <td>Male Characters</td>\n",
       "      <td>NaN</td>\n",
       "      <td>Living Characters</td>\n",
       "      <td>2258.0</td>\n",
       "      <td>Nov-50</td>\n",
       "      <td>1950.0</td>\n",
       "    </tr>\n",
       "    <tr>\n",
       "      <th>...</th>\n",
       "      <td>...</td>\n",
       "      <td>...</td>\n",
       "      <td>...</td>\n",
       "      <td>...</td>\n",
       "      <td>...</td>\n",
       "      <td>...</td>\n",
       "      <td>...</td>\n",
       "      <td>...</td>\n",
       "      <td>...</td>\n",
       "      <td>...</td>\n",
       "      <td>...</td>\n",
       "      <td>...</td>\n",
       "      <td>...</td>\n",
       "    </tr>\n",
       "    <tr>\n",
       "      <th>16371</th>\n",
       "      <td>657508</td>\n",
       "      <td>Ru'ach (Earth-616)</td>\n",
       "      <td>\\/Ru%27ach_(Earth-616)</td>\n",
       "      <td>No Dual Identity</td>\n",
       "      <td>Bad Characters</td>\n",
       "      <td>Green Eyes</td>\n",
       "      <td>No Hair</td>\n",
       "      <td>Male Characters</td>\n",
       "      <td>NaN</td>\n",
       "      <td>Living Characters</td>\n",
       "      <td>NaN</td>\n",
       "      <td>NaN</td>\n",
       "      <td>NaN</td>\n",
       "    </tr>\n",
       "    <tr>\n",
       "      <th>16372</th>\n",
       "      <td>665474</td>\n",
       "      <td>Thane (Thanos' son) (Earth-616)</td>\n",
       "      <td>\\/Thane_(Thanos%27_son)_(Earth-616)</td>\n",
       "      <td>No Dual Identity</td>\n",
       "      <td>Good Characters</td>\n",
       "      <td>Blue Eyes</td>\n",
       "      <td>Bald</td>\n",
       "      <td>Male Characters</td>\n",
       "      <td>NaN</td>\n",
       "      <td>Living Characters</td>\n",
       "      <td>NaN</td>\n",
       "      <td>NaN</td>\n",
       "      <td>NaN</td>\n",
       "    </tr>\n",
       "    <tr>\n",
       "      <th>16373</th>\n",
       "      <td>695217</td>\n",
       "      <td>Tinkerer (Skrull) (Earth-616)</td>\n",
       "      <td>\\/Tinkerer_(Skrull)_(Earth-616)</td>\n",
       "      <td>Secret Identity</td>\n",
       "      <td>Bad Characters</td>\n",
       "      <td>Black Eyes</td>\n",
       "      <td>Bald</td>\n",
       "      <td>Male Characters</td>\n",
       "      <td>NaN</td>\n",
       "      <td>Living Characters</td>\n",
       "      <td>NaN</td>\n",
       "      <td>NaN</td>\n",
       "      <td>NaN</td>\n",
       "    </tr>\n",
       "    <tr>\n",
       "      <th>16374</th>\n",
       "      <td>708811</td>\n",
       "      <td>TK421 (Spiderling) (Earth-616)</td>\n",
       "      <td>\\/TK421_(Spiderling)_(Earth-616)</td>\n",
       "      <td>Secret Identity</td>\n",
       "      <td>Neutral Characters</td>\n",
       "      <td>NaN</td>\n",
       "      <td>NaN</td>\n",
       "      <td>Male Characters</td>\n",
       "      <td>NaN</td>\n",
       "      <td>Living Characters</td>\n",
       "      <td>NaN</td>\n",
       "      <td>NaN</td>\n",
       "      <td>NaN</td>\n",
       "    </tr>\n",
       "    <tr>\n",
       "      <th>16375</th>\n",
       "      <td>673702</td>\n",
       "      <td>Yologarch (Earth-616)</td>\n",
       "      <td>\\/Yologarch_(Earth-616)</td>\n",
       "      <td>NaN</td>\n",
       "      <td>Bad Characters</td>\n",
       "      <td>NaN</td>\n",
       "      <td>NaN</td>\n",
       "      <td>NaN</td>\n",
       "      <td>NaN</td>\n",
       "      <td>Living Characters</td>\n",
       "      <td>NaN</td>\n",
       "      <td>NaN</td>\n",
       "      <td>NaN</td>\n",
       "    </tr>\n",
       "  </tbody>\n",
       "</table>\n",
       "<p>16376 rows × 13 columns</p>\n",
       "</div>"
      ],
      "text/plain": [
       "       page_id                                 name  \\\n",
       "0         1678            Spider-Man (Peter Parker)   \n",
       "1         7139      Captain America (Steven Rogers)   \n",
       "2        64786  Wolverine (James \\\"Logan\\\" Howlett)   \n",
       "3         1868    Iron Man (Anthony \\\"Tony\\\" Stark)   \n",
       "4         2460                  Thor (Thor Odinson)   \n",
       "...        ...                                  ...   \n",
       "16371   657508                   Ru'ach (Earth-616)   \n",
       "16372   665474      Thane (Thanos' son) (Earth-616)   \n",
       "16373   695217        Tinkerer (Skrull) (Earth-616)   \n",
       "16374   708811       TK421 (Spiderling) (Earth-616)   \n",
       "16375   673702                Yologarch (Earth-616)   \n",
       "\n",
       "                                       urlslug                ID  \\\n",
       "0                  \\/Spider-Man_(Peter_Parker)   Secret Identity   \n",
       "1            \\/Captain_America_(Steven_Rogers)   Public Identity   \n",
       "2      \\/Wolverine_(James_%22Logan%22_Howlett)   Public Identity   \n",
       "3        \\/Iron_Man_(Anthony_%22Tony%22_Stark)   Public Identity   \n",
       "4                        \\/Thor_(Thor_Odinson)  No Dual Identity   \n",
       "...                                        ...               ...   \n",
       "16371                   \\/Ru%27ach_(Earth-616)  No Dual Identity   \n",
       "16372      \\/Thane_(Thanos%27_son)_(Earth-616)  No Dual Identity   \n",
       "16373          \\/Tinkerer_(Skrull)_(Earth-616)   Secret Identity   \n",
       "16374         \\/TK421_(Spiderling)_(Earth-616)   Secret Identity   \n",
       "16375                  \\/Yologarch_(Earth-616)               NaN   \n",
       "\n",
       "                    ALIGN         EYE        HAIR              SEX  GSM  \\\n",
       "0         Good Characters  Hazel Eyes  Brown Hair  Male Characters  NaN   \n",
       "1         Good Characters   Blue Eyes  White Hair  Male Characters  NaN   \n",
       "2      Neutral Characters   Blue Eyes  Black Hair  Male Characters  NaN   \n",
       "3         Good Characters   Blue Eyes  Black Hair  Male Characters  NaN   \n",
       "4         Good Characters   Blue Eyes  Blond Hair  Male Characters  NaN   \n",
       "...                   ...         ...         ...              ...  ...   \n",
       "16371      Bad Characters  Green Eyes     No Hair  Male Characters  NaN   \n",
       "16372     Good Characters   Blue Eyes        Bald  Male Characters  NaN   \n",
       "16373      Bad Characters  Black Eyes        Bald  Male Characters  NaN   \n",
       "16374  Neutral Characters         NaN         NaN  Male Characters  NaN   \n",
       "16375      Bad Characters         NaN         NaN              NaN  NaN   \n",
       "\n",
       "                   ALIVE  APPEARANCES FIRST APPEARANCE    Year  \n",
       "0      Living Characters       4043.0           Aug-62  1962.0  \n",
       "1      Living Characters       3360.0           Mar-41  1941.0  \n",
       "2      Living Characters       3061.0           Oct-74  1974.0  \n",
       "3      Living Characters       2961.0           Mar-63  1963.0  \n",
       "4      Living Characters       2258.0           Nov-50  1950.0  \n",
       "...                  ...          ...              ...     ...  \n",
       "16371  Living Characters          NaN              NaN     NaN  \n",
       "16372  Living Characters          NaN              NaN     NaN  \n",
       "16373  Living Characters          NaN              NaN     NaN  \n",
       "16374  Living Characters          NaN              NaN     NaN  \n",
       "16375  Living Characters          NaN              NaN     NaN  \n",
       "\n",
       "[16376 rows x 13 columns]"
      ]
     },
     "execution_count": 248,
     "metadata": {},
     "output_type": "execute_result"
    }
   ],
   "source": [
    "marvel"
   ]
  },
  {
   "cell_type": "code",
   "execution_count": 249,
   "metadata": {},
   "outputs": [
    {
     "data": {
      "text/plain": [
       "(16376, 13)"
      ]
     },
     "execution_count": 249,
     "metadata": {},
     "output_type": "execute_result"
    }
   ],
   "source": [
    "marvel.shape"
   ]
  },
  {
   "cell_type": "code",
   "execution_count": 250,
   "metadata": {},
   "outputs": [
    {
     "data": {
      "text/plain": [
       "page_id             16376\n",
       "name                16376\n",
       "urlslug             16376\n",
       "ID                      4\n",
       "ALIGN                   3\n",
       "EYE                    24\n",
       "HAIR                   25\n",
       "SEX                     4\n",
       "GSM                     6\n",
       "ALIVE                   2\n",
       "APPEARANCES           358\n",
       "FIRST APPEARANCE      832\n",
       "Year                   75\n",
       "dtype: int64"
      ]
     },
     "execution_count": 250,
     "metadata": {},
     "output_type": "execute_result"
    }
   ],
   "source": [
    "marvel.nunique(axis=0) # Shows the unique values for each column "
   ]
  },
  {
   "cell_type": "code",
   "execution_count": 251,
   "metadata": {},
   "outputs": [],
   "source": [
    "marvel = marvel[marvel.APPEARANCES > 300]"
   ]
  },
  {
   "cell_type": "code",
   "execution_count": 252,
   "metadata": {},
   "outputs": [
    {
     "data": {
      "text/plain": [
       "array([nan, 'Bisexual Characters', 'Transvestites',\n",
       "       'Homosexual Characters'], dtype=object)"
      ]
     },
     "execution_count": 252,
     "metadata": {},
     "output_type": "execute_result"
    }
   ],
   "source": [
    "marvel['GSM'].unique()"
   ]
  },
  {
   "cell_type": "code",
   "execution_count": 253,
   "metadata": {},
   "outputs": [
    {
     "data": {
      "text/plain": [
       "array(['Good Characters', 'Neutral Characters', 'Bad Characters', nan],\n",
       "      dtype=object)"
      ]
     },
     "execution_count": 253,
     "metadata": {},
     "output_type": "execute_result"
    }
   ],
   "source": [
    "marvel['ALIGN'].unique()"
   ]
  },
  {
   "cell_type": "code",
   "execution_count": 254,
   "metadata": {},
   "outputs": [
    {
     "data": {
      "text/plain": [
       "array(['Secret Identity', 'Public Identity', 'No Dual Identity',\n",
       "       'Known to Authorities Identity'], dtype=object)"
      ]
     },
     "execution_count": 254,
     "metadata": {},
     "output_type": "execute_result"
    }
   ],
   "source": [
    "marvel['ID'].unique()"
   ]
  },
  {
   "cell_type": "code",
   "execution_count": 255,
   "metadata": {},
   "outputs": [
    {
     "data": {
      "text/plain": [
       "array(['Living Characters', 'Deceased Characters'], dtype=object)"
      ]
     },
     "execution_count": 255,
     "metadata": {},
     "output_type": "execute_result"
    }
   ],
   "source": [
    "marvel['ALIVE'].unique()"
   ]
  },
  {
   "cell_type": "code",
   "execution_count": 256,
   "metadata": {},
   "outputs": [
    {
     "data": {
      "text/plain": [
       "array(['Male Characters', 'Female Characters', 'Genderfluid Characters',\n",
       "       'Agender Characters'], dtype=object)"
      ]
     },
     "execution_count": 256,
     "metadata": {},
     "output_type": "execute_result"
    }
   ],
   "source": [
    "marvel['SEX'].unique()"
   ]
  },
  {
   "cell_type": "markdown",
   "metadata": {},
   "source": [
    "### Cleaning the Data"
   ]
  },
  {
   "cell_type": "code",
   "execution_count": 257,
   "metadata": {},
   "outputs": [
    {
     "data": {
      "text/plain": [
       "page_id               0\n",
       "name                  0\n",
       "urlslug               0\n",
       "ID                    0\n",
       "ALIGN                 2\n",
       "EYE                   1\n",
       "HAIR                  0\n",
       "SEX                   0\n",
       "GSM                 122\n",
       "ALIVE                 0\n",
       "APPEARANCES           0\n",
       "FIRST APPEARANCE      4\n",
       "Year                  4\n",
       "dtype: int64"
      ]
     },
     "execution_count": 257,
     "metadata": {},
     "output_type": "execute_result"
    }
   ],
   "source": [
    "marvel.isna().sum() "
   ]
  },
  {
   "cell_type": "code",
   "execution_count": 258,
   "metadata": {},
   "outputs": [
    {
     "data": {
      "text/plain": [
       "page_id              0.000000\n",
       "name                 0.000000\n",
       "urlslug              0.000000\n",
       "ID                   0.000000\n",
       "ALIGN                1.538462\n",
       "EYE                  0.769231\n",
       "HAIR                 0.000000\n",
       "SEX                  0.000000\n",
       "GSM                 93.846154\n",
       "ALIVE                0.000000\n",
       "APPEARANCES          0.000000\n",
       "FIRST APPEARANCE     3.076923\n",
       "Year                 3.076923\n",
       "dtype: float64"
      ]
     },
     "execution_count": 258,
     "metadata": {},
     "output_type": "execute_result"
    }
   ],
   "source": [
    "#Percentage Missing\n",
    "(marvel.isna().sum() / len(marvel))*100"
   ]
  },
  {
   "cell_type": "code",
   "execution_count": 259,
   "metadata": {},
   "outputs": [],
   "source": [
    "#Remove GSM, HAIR, EYE, FIRST APPEARANCE, Year, urlslug,APPEARANCES\n",
    "marvel_clean = marvel.drop(['GSM','HAIR','FIRST APPEARANCE','APPEARANCES','EYE','Year','urlslug'], axis = 1)"
   ]
  },
  {
   "cell_type": "code",
   "execution_count": 260,
   "metadata": {},
   "outputs": [],
   "source": [
    "#Create column 'Universe' == Marvel \n",
    "marvel_clean['Universe'] = 'Marvel'"
   ]
  },
  {
   "cell_type": "code",
   "execution_count": 261,
   "metadata": {},
   "outputs": [],
   "source": [
    "#Filling the missing values for ALIGN, ID, ALIVE, SEX"
   ]
  },
  {
   "cell_type": "code",
   "execution_count": 262,
   "metadata": {},
   "outputs": [],
   "source": [
    "marvel_clean['ALIGN'] = marvel_clean['ALIGN'].fillna('Neutral Characters')"
   ]
  },
  {
   "cell_type": "code",
   "execution_count": 263,
   "metadata": {},
   "outputs": [],
   "source": [
    "marvel_clean['ID'] = marvel_clean['ID'].fillna('Secret Identity')"
   ]
  },
  {
   "cell_type": "code",
   "execution_count": 264,
   "metadata": {},
   "outputs": [],
   "source": [
    "marvel_clean['ALIVE'] = marvel_clean['ALIVE'].fillna('Unknown')"
   ]
  },
  {
   "cell_type": "code",
   "execution_count": 265,
   "metadata": {},
   "outputs": [],
   "source": [
    "marvel_clean['SEX'] = marvel_clean['SEX'].fillna('Unknown')"
   ]
  },
  {
   "cell_type": "code",
   "execution_count": 266,
   "metadata": {},
   "outputs": [
    {
     "data": {
      "text/html": [
       "<div>\n",
       "<style scoped>\n",
       "    .dataframe tbody tr th:only-of-type {\n",
       "        vertical-align: middle;\n",
       "    }\n",
       "\n",
       "    .dataframe tbody tr th {\n",
       "        vertical-align: top;\n",
       "    }\n",
       "\n",
       "    .dataframe thead th {\n",
       "        text-align: right;\n",
       "    }\n",
       "</style>\n",
       "<table border=\"1\" class=\"dataframe\">\n",
       "  <thead>\n",
       "    <tr style=\"text-align: right;\">\n",
       "      <th></th>\n",
       "      <th>page_id</th>\n",
       "      <th>name</th>\n",
       "      <th>ID</th>\n",
       "      <th>ALIGN</th>\n",
       "      <th>SEX</th>\n",
       "      <th>ALIVE</th>\n",
       "      <th>Universe</th>\n",
       "    </tr>\n",
       "  </thead>\n",
       "  <tbody>\n",
       "    <tr>\n",
       "      <th>0</th>\n",
       "      <td>1678</td>\n",
       "      <td>Spider-Man (Peter Parker)</td>\n",
       "      <td>Secret Identity</td>\n",
       "      <td>Good Characters</td>\n",
       "      <td>Male Characters</td>\n",
       "      <td>Living Characters</td>\n",
       "      <td>Marvel</td>\n",
       "    </tr>\n",
       "    <tr>\n",
       "      <th>1</th>\n",
       "      <td>7139</td>\n",
       "      <td>Captain America (Steven Rogers)</td>\n",
       "      <td>Public Identity</td>\n",
       "      <td>Good Characters</td>\n",
       "      <td>Male Characters</td>\n",
       "      <td>Living Characters</td>\n",
       "      <td>Marvel</td>\n",
       "    </tr>\n",
       "    <tr>\n",
       "      <th>2</th>\n",
       "      <td>64786</td>\n",
       "      <td>Wolverine (James \\\"Logan\\\" Howlett)</td>\n",
       "      <td>Public Identity</td>\n",
       "      <td>Neutral Characters</td>\n",
       "      <td>Male Characters</td>\n",
       "      <td>Living Characters</td>\n",
       "      <td>Marvel</td>\n",
       "    </tr>\n",
       "    <tr>\n",
       "      <th>3</th>\n",
       "      <td>1868</td>\n",
       "      <td>Iron Man (Anthony \\\"Tony\\\" Stark)</td>\n",
       "      <td>Public Identity</td>\n",
       "      <td>Good Characters</td>\n",
       "      <td>Male Characters</td>\n",
       "      <td>Living Characters</td>\n",
       "      <td>Marvel</td>\n",
       "    </tr>\n",
       "    <tr>\n",
       "      <th>4</th>\n",
       "      <td>2460</td>\n",
       "      <td>Thor (Thor Odinson)</td>\n",
       "      <td>No Dual Identity</td>\n",
       "      <td>Good Characters</td>\n",
       "      <td>Male Characters</td>\n",
       "      <td>Living Characters</td>\n",
       "      <td>Marvel</td>\n",
       "    </tr>\n",
       "    <tr>\n",
       "      <th>...</th>\n",
       "      <td>...</td>\n",
       "      <td>...</td>\n",
       "      <td>...</td>\n",
       "      <td>...</td>\n",
       "      <td>...</td>\n",
       "      <td>...</td>\n",
       "      <td>...</td>\n",
       "    </tr>\n",
       "    <tr>\n",
       "      <th>125</th>\n",
       "      <td>2238</td>\n",
       "      <td>Jean-Paul Beaubier (Earth-616)</td>\n",
       "      <td>Secret Identity</td>\n",
       "      <td>Good Characters</td>\n",
       "      <td>Male Characters</td>\n",
       "      <td>Living Characters</td>\n",
       "      <td>Marvel</td>\n",
       "    </tr>\n",
       "    <tr>\n",
       "      <th>126</th>\n",
       "      <td>1706</td>\n",
       "      <td>Daniel Ketch (Earth-616)</td>\n",
       "      <td>Secret Identity</td>\n",
       "      <td>Neutral Characters</td>\n",
       "      <td>Male Characters</td>\n",
       "      <td>Living Characters</td>\n",
       "      <td>Marvel</td>\n",
       "    </tr>\n",
       "    <tr>\n",
       "      <th>127</th>\n",
       "      <td>1460</td>\n",
       "      <td>Neena Thurman (Earth-616)</td>\n",
       "      <td>Secret Identity</td>\n",
       "      <td>Good Characters</td>\n",
       "      <td>Female Characters</td>\n",
       "      <td>Living Characters</td>\n",
       "      <td>Marvel</td>\n",
       "    </tr>\n",
       "    <tr>\n",
       "      <th>128</th>\n",
       "      <td>2010</td>\n",
       "      <td>Wong (Earth-616)</td>\n",
       "      <td>No Dual Identity</td>\n",
       "      <td>Good Characters</td>\n",
       "      <td>Male Characters</td>\n",
       "      <td>Living Characters</td>\n",
       "      <td>Marvel</td>\n",
       "    </tr>\n",
       "    <tr>\n",
       "      <th>129</th>\n",
       "      <td>2456</td>\n",
       "      <td>Thanos (Earth-616)</td>\n",
       "      <td>No Dual Identity</td>\n",
       "      <td>Bad Characters</td>\n",
       "      <td>Male Characters</td>\n",
       "      <td>Living Characters</td>\n",
       "      <td>Marvel</td>\n",
       "    </tr>\n",
       "  </tbody>\n",
       "</table>\n",
       "<p>130 rows × 7 columns</p>\n",
       "</div>"
      ],
      "text/plain": [
       "     page_id                                 name                ID  \\\n",
       "0       1678            Spider-Man (Peter Parker)   Secret Identity   \n",
       "1       7139      Captain America (Steven Rogers)   Public Identity   \n",
       "2      64786  Wolverine (James \\\"Logan\\\" Howlett)   Public Identity   \n",
       "3       1868    Iron Man (Anthony \\\"Tony\\\" Stark)   Public Identity   \n",
       "4       2460                  Thor (Thor Odinson)  No Dual Identity   \n",
       "..       ...                                  ...               ...   \n",
       "125     2238       Jean-Paul Beaubier (Earth-616)   Secret Identity   \n",
       "126     1706             Daniel Ketch (Earth-616)   Secret Identity   \n",
       "127     1460            Neena Thurman (Earth-616)   Secret Identity   \n",
       "128     2010                     Wong (Earth-616)  No Dual Identity   \n",
       "129     2456                   Thanos (Earth-616)  No Dual Identity   \n",
       "\n",
       "                  ALIGN                SEX              ALIVE Universe  \n",
       "0       Good Characters    Male Characters  Living Characters   Marvel  \n",
       "1       Good Characters    Male Characters  Living Characters   Marvel  \n",
       "2    Neutral Characters    Male Characters  Living Characters   Marvel  \n",
       "3       Good Characters    Male Characters  Living Characters   Marvel  \n",
       "4       Good Characters    Male Characters  Living Characters   Marvel  \n",
       "..                  ...                ...                ...      ...  \n",
       "125     Good Characters    Male Characters  Living Characters   Marvel  \n",
       "126  Neutral Characters    Male Characters  Living Characters   Marvel  \n",
       "127     Good Characters  Female Characters  Living Characters   Marvel  \n",
       "128     Good Characters    Male Characters  Living Characters   Marvel  \n",
       "129      Bad Characters    Male Characters  Living Characters   Marvel  \n",
       "\n",
       "[130 rows x 7 columns]"
      ]
     },
     "execution_count": 266,
     "metadata": {},
     "output_type": "execute_result"
    }
   ],
   "source": [
    "marvel_clean"
   ]
  },
  {
   "cell_type": "markdown",
   "metadata": {},
   "source": [
    "### DC Dataset"
   ]
  },
  {
   "cell_type": "code",
   "execution_count": 173,
   "metadata": {},
   "outputs": [],
   "source": [
    "dc = pd.read_csv(data_dir + 'DC_data_OG.csv')"
   ]
  },
  {
   "cell_type": "code",
   "execution_count": 174,
   "metadata": {},
   "outputs": [
    {
     "data": {
      "text/html": [
       "<div>\n",
       "<style scoped>\n",
       "    .dataframe tbody tr th:only-of-type {\n",
       "        vertical-align: middle;\n",
       "    }\n",
       "\n",
       "    .dataframe tbody tr th {\n",
       "        vertical-align: top;\n",
       "    }\n",
       "\n",
       "    .dataframe thead th {\n",
       "        text-align: right;\n",
       "    }\n",
       "</style>\n",
       "<table border=\"1\" class=\"dataframe\">\n",
       "  <thead>\n",
       "    <tr style=\"text-align: right;\">\n",
       "      <th></th>\n",
       "      <th>page_id</th>\n",
       "      <th>name</th>\n",
       "      <th>urlslug</th>\n",
       "      <th>ID</th>\n",
       "      <th>ALIGN</th>\n",
       "      <th>EYE</th>\n",
       "      <th>HAIR</th>\n",
       "      <th>SEX</th>\n",
       "      <th>GSM</th>\n",
       "      <th>ALIVE</th>\n",
       "      <th>APPEARANCES</th>\n",
       "      <th>FIRST APPEARANCE</th>\n",
       "      <th>YEAR</th>\n",
       "    </tr>\n",
       "  </thead>\n",
       "  <tbody>\n",
       "    <tr>\n",
       "      <th>0</th>\n",
       "      <td>1422</td>\n",
       "      <td>Batman (Bruce Wayne)</td>\n",
       "      <td>\\/wiki\\/Batman_(Bruce_Wayne)</td>\n",
       "      <td>Secret Identity</td>\n",
       "      <td>Good Characters</td>\n",
       "      <td>Blue Eyes</td>\n",
       "      <td>Black Hair</td>\n",
       "      <td>Male Characters</td>\n",
       "      <td>NaN</td>\n",
       "      <td>Living Characters</td>\n",
       "      <td>3093.0</td>\n",
       "      <td>1939, May</td>\n",
       "      <td>1939.0</td>\n",
       "    </tr>\n",
       "    <tr>\n",
       "      <th>1</th>\n",
       "      <td>23387</td>\n",
       "      <td>Superman (Clark Kent)</td>\n",
       "      <td>\\/wiki\\/Superman_(Clark_Kent)</td>\n",
       "      <td>Secret Identity</td>\n",
       "      <td>Good Characters</td>\n",
       "      <td>Blue Eyes</td>\n",
       "      <td>Black Hair</td>\n",
       "      <td>Male Characters</td>\n",
       "      <td>NaN</td>\n",
       "      <td>Living Characters</td>\n",
       "      <td>2496.0</td>\n",
       "      <td>1986, October</td>\n",
       "      <td>1986.0</td>\n",
       "    </tr>\n",
       "    <tr>\n",
       "      <th>2</th>\n",
       "      <td>1458</td>\n",
       "      <td>Green Lantern (Hal Jordan)</td>\n",
       "      <td>\\/wiki\\/Green_Lantern_(Hal_Jordan)</td>\n",
       "      <td>Secret Identity</td>\n",
       "      <td>Good Characters</td>\n",
       "      <td>Brown Eyes</td>\n",
       "      <td>Brown Hair</td>\n",
       "      <td>Male Characters</td>\n",
       "      <td>NaN</td>\n",
       "      <td>Living Characters</td>\n",
       "      <td>1565.0</td>\n",
       "      <td>1959, October</td>\n",
       "      <td>1959.0</td>\n",
       "    </tr>\n",
       "    <tr>\n",
       "      <th>3</th>\n",
       "      <td>1659</td>\n",
       "      <td>James Gordon (New Earth)</td>\n",
       "      <td>\\/wiki\\/James_Gordon_(New_Earth)</td>\n",
       "      <td>Public Identity</td>\n",
       "      <td>Good Characters</td>\n",
       "      <td>Brown Eyes</td>\n",
       "      <td>White Hair</td>\n",
       "      <td>Male Characters</td>\n",
       "      <td>NaN</td>\n",
       "      <td>Living Characters</td>\n",
       "      <td>1316.0</td>\n",
       "      <td>1987, February</td>\n",
       "      <td>1987.0</td>\n",
       "    </tr>\n",
       "    <tr>\n",
       "      <th>4</th>\n",
       "      <td>1576</td>\n",
       "      <td>Richard Grayson (New Earth)</td>\n",
       "      <td>\\/wiki\\/Richard_Grayson_(New_Earth)</td>\n",
       "      <td>Secret Identity</td>\n",
       "      <td>Good Characters</td>\n",
       "      <td>Blue Eyes</td>\n",
       "      <td>Black Hair</td>\n",
       "      <td>Male Characters</td>\n",
       "      <td>NaN</td>\n",
       "      <td>Living Characters</td>\n",
       "      <td>1237.0</td>\n",
       "      <td>1940, April</td>\n",
       "      <td>1940.0</td>\n",
       "    </tr>\n",
       "    <tr>\n",
       "      <th>...</th>\n",
       "      <td>...</td>\n",
       "      <td>...</td>\n",
       "      <td>...</td>\n",
       "      <td>...</td>\n",
       "      <td>...</td>\n",
       "      <td>...</td>\n",
       "      <td>...</td>\n",
       "      <td>...</td>\n",
       "      <td>...</td>\n",
       "      <td>...</td>\n",
       "      <td>...</td>\n",
       "      <td>...</td>\n",
       "      <td>...</td>\n",
       "    </tr>\n",
       "    <tr>\n",
       "      <th>6891</th>\n",
       "      <td>66302</td>\n",
       "      <td>Nadine West (New Earth)</td>\n",
       "      <td>\\/wiki\\/Nadine_West_(New_Earth)</td>\n",
       "      <td>Public Identity</td>\n",
       "      <td>Good Characters</td>\n",
       "      <td>NaN</td>\n",
       "      <td>NaN</td>\n",
       "      <td>Female Characters</td>\n",
       "      <td>NaN</td>\n",
       "      <td>Living Characters</td>\n",
       "      <td>NaN</td>\n",
       "      <td>NaN</td>\n",
       "      <td>NaN</td>\n",
       "    </tr>\n",
       "    <tr>\n",
       "      <th>6892</th>\n",
       "      <td>283475</td>\n",
       "      <td>Warren Harding (New Earth)</td>\n",
       "      <td>\\/wiki\\/Warren_Harding_(New_Earth)</td>\n",
       "      <td>Public Identity</td>\n",
       "      <td>Good Characters</td>\n",
       "      <td>NaN</td>\n",
       "      <td>NaN</td>\n",
       "      <td>Male Characters</td>\n",
       "      <td>NaN</td>\n",
       "      <td>Living Characters</td>\n",
       "      <td>NaN</td>\n",
       "      <td>NaN</td>\n",
       "      <td>NaN</td>\n",
       "    </tr>\n",
       "    <tr>\n",
       "      <th>6893</th>\n",
       "      <td>283478</td>\n",
       "      <td>William Harrison (New Earth)</td>\n",
       "      <td>\\/wiki\\/William_Harrison_(New_Earth)</td>\n",
       "      <td>Public Identity</td>\n",
       "      <td>Good Characters</td>\n",
       "      <td>NaN</td>\n",
       "      <td>NaN</td>\n",
       "      <td>Male Characters</td>\n",
       "      <td>NaN</td>\n",
       "      <td>Living Characters</td>\n",
       "      <td>NaN</td>\n",
       "      <td>NaN</td>\n",
       "      <td>NaN</td>\n",
       "    </tr>\n",
       "    <tr>\n",
       "      <th>6894</th>\n",
       "      <td>283471</td>\n",
       "      <td>William McKinley (New Earth)</td>\n",
       "      <td>\\/wiki\\/William_McKinley_(New_Earth)</td>\n",
       "      <td>Public Identity</td>\n",
       "      <td>Good Characters</td>\n",
       "      <td>NaN</td>\n",
       "      <td>NaN</td>\n",
       "      <td>Male Characters</td>\n",
       "      <td>NaN</td>\n",
       "      <td>Living Characters</td>\n",
       "      <td>NaN</td>\n",
       "      <td>NaN</td>\n",
       "      <td>NaN</td>\n",
       "    </tr>\n",
       "    <tr>\n",
       "      <th>6895</th>\n",
       "      <td>150660</td>\n",
       "      <td>Mookie (New Earth)</td>\n",
       "      <td>\\/wiki\\/Mookie_(New_Earth)</td>\n",
       "      <td>Public Identity</td>\n",
       "      <td>Bad Characters</td>\n",
       "      <td>Blue Eyes</td>\n",
       "      <td>Blond Hair</td>\n",
       "      <td>Male Characters</td>\n",
       "      <td>NaN</td>\n",
       "      <td>Living Characters</td>\n",
       "      <td>NaN</td>\n",
       "      <td>NaN</td>\n",
       "      <td>NaN</td>\n",
       "    </tr>\n",
       "  </tbody>\n",
       "</table>\n",
       "<p>6896 rows × 13 columns</p>\n",
       "</div>"
      ],
      "text/plain": [
       "      page_id                          name  \\\n",
       "0        1422          Batman (Bruce Wayne)   \n",
       "1       23387         Superman (Clark Kent)   \n",
       "2        1458    Green Lantern (Hal Jordan)   \n",
       "3        1659      James Gordon (New Earth)   \n",
       "4        1576   Richard Grayson (New Earth)   \n",
       "...       ...                           ...   \n",
       "6891    66302       Nadine West (New Earth)   \n",
       "6892   283475    Warren Harding (New Earth)   \n",
       "6893   283478  William Harrison (New Earth)   \n",
       "6894   283471  William McKinley (New Earth)   \n",
       "6895   150660            Mookie (New Earth)   \n",
       "\n",
       "                                   urlslug               ID            ALIGN  \\\n",
       "0             \\/wiki\\/Batman_(Bruce_Wayne)  Secret Identity  Good Characters   \n",
       "1            \\/wiki\\/Superman_(Clark_Kent)  Secret Identity  Good Characters   \n",
       "2       \\/wiki\\/Green_Lantern_(Hal_Jordan)  Secret Identity  Good Characters   \n",
       "3         \\/wiki\\/James_Gordon_(New_Earth)  Public Identity  Good Characters   \n",
       "4      \\/wiki\\/Richard_Grayson_(New_Earth)  Secret Identity  Good Characters   \n",
       "...                                    ...              ...              ...   \n",
       "6891       \\/wiki\\/Nadine_West_(New_Earth)  Public Identity  Good Characters   \n",
       "6892    \\/wiki\\/Warren_Harding_(New_Earth)  Public Identity  Good Characters   \n",
       "6893  \\/wiki\\/William_Harrison_(New_Earth)  Public Identity  Good Characters   \n",
       "6894  \\/wiki\\/William_McKinley_(New_Earth)  Public Identity  Good Characters   \n",
       "6895            \\/wiki\\/Mookie_(New_Earth)  Public Identity   Bad Characters   \n",
       "\n",
       "             EYE        HAIR                SEX  GSM              ALIVE  \\\n",
       "0      Blue Eyes  Black Hair    Male Characters  NaN  Living Characters   \n",
       "1      Blue Eyes  Black Hair    Male Characters  NaN  Living Characters   \n",
       "2     Brown Eyes  Brown Hair    Male Characters  NaN  Living Characters   \n",
       "3     Brown Eyes  White Hair    Male Characters  NaN  Living Characters   \n",
       "4      Blue Eyes  Black Hair    Male Characters  NaN  Living Characters   \n",
       "...          ...         ...                ...  ...                ...   \n",
       "6891         NaN         NaN  Female Characters  NaN  Living Characters   \n",
       "6892         NaN         NaN    Male Characters  NaN  Living Characters   \n",
       "6893         NaN         NaN    Male Characters  NaN  Living Characters   \n",
       "6894         NaN         NaN    Male Characters  NaN  Living Characters   \n",
       "6895   Blue Eyes  Blond Hair    Male Characters  NaN  Living Characters   \n",
       "\n",
       "      APPEARANCES FIRST APPEARANCE    YEAR  \n",
       "0          3093.0        1939, May  1939.0  \n",
       "1          2496.0    1986, October  1986.0  \n",
       "2          1565.0    1959, October  1959.0  \n",
       "3          1316.0   1987, February  1987.0  \n",
       "4          1237.0      1940, April  1940.0  \n",
       "...           ...              ...     ...  \n",
       "6891          NaN              NaN     NaN  \n",
       "6892          NaN              NaN     NaN  \n",
       "6893          NaN              NaN     NaN  \n",
       "6894          NaN              NaN     NaN  \n",
       "6895          NaN              NaN     NaN  \n",
       "\n",
       "[6896 rows x 13 columns]"
      ]
     },
     "execution_count": 174,
     "metadata": {},
     "output_type": "execute_result"
    }
   ],
   "source": [
    "dc"
   ]
  },
  {
   "cell_type": "code",
   "execution_count": 175,
   "metadata": {},
   "outputs": [
    {
     "data": {
      "text/plain": [
       "(6896, 13)"
      ]
     },
     "execution_count": 175,
     "metadata": {},
     "output_type": "execute_result"
    }
   ],
   "source": [
    "dc.shape"
   ]
  },
  {
   "cell_type": "code",
   "execution_count": 176,
   "metadata": {},
   "outputs": [
    {
     "data": {
      "text/plain": [
       "page_id             6896\n",
       "name                6896\n",
       "urlslug             6896\n",
       "ID                     3\n",
       "ALIGN                  4\n",
       "EYE                   17\n",
       "HAIR                  17\n",
       "SEX                    4\n",
       "GSM                    2\n",
       "ALIVE                  2\n",
       "APPEARANCES          282\n",
       "FIRST APPEARANCE     774\n",
       "YEAR                  79\n",
       "dtype: int64"
      ]
     },
     "execution_count": 176,
     "metadata": {},
     "output_type": "execute_result"
    }
   ],
   "source": [
    "dc.nunique(axis=0) # Shows the unique values for each column "
   ]
  },
  {
   "cell_type": "code",
   "execution_count": 177,
   "metadata": {},
   "outputs": [],
   "source": [
    "dc = dc[dc.APPEARANCES > 300]"
   ]
  },
  {
   "cell_type": "code",
   "execution_count": 178,
   "metadata": {},
   "outputs": [
    {
     "data": {
      "text/plain": [
       "array([nan, 'Bisexual Characters', 'Homosexual Characters'], dtype=object)"
      ]
     },
     "execution_count": 178,
     "metadata": {},
     "output_type": "execute_result"
    }
   ],
   "source": [
    "dc['GSM'].unique()"
   ]
  },
  {
   "cell_type": "code",
   "execution_count": 179,
   "metadata": {},
   "outputs": [
    {
     "data": {
      "text/plain": [
       "array(['Good Characters', 'Bad Characters', 'Neutral Characters', nan],\n",
       "      dtype=object)"
      ]
     },
     "execution_count": 179,
     "metadata": {},
     "output_type": "execute_result"
    }
   ],
   "source": [
    "dc['ALIGN'].unique()"
   ]
  },
  {
   "cell_type": "code",
   "execution_count": 180,
   "metadata": {},
   "outputs": [
    {
     "data": {
      "text/plain": [
       "array(['Male Characters', 'Female Characters'], dtype=object)"
      ]
     },
     "execution_count": 180,
     "metadata": {},
     "output_type": "execute_result"
    }
   ],
   "source": [
    "dc['SEX'].unique()"
   ]
  },
  {
   "cell_type": "code",
   "execution_count": 181,
   "metadata": {},
   "outputs": [
    {
     "data": {
      "text/plain": [
       "array(['Secret Identity', 'Public Identity'], dtype=object)"
      ]
     },
     "execution_count": 181,
     "metadata": {},
     "output_type": "execute_result"
    }
   ],
   "source": [
    "dc['ID'].unique()"
   ]
  },
  {
   "cell_type": "code",
   "execution_count": 182,
   "metadata": {},
   "outputs": [
    {
     "data": {
      "text/plain": [
       "array(['Living Characters', 'Deceased Characters'], dtype=object)"
      ]
     },
     "execution_count": 182,
     "metadata": {},
     "output_type": "execute_result"
    }
   ],
   "source": [
    "dc['ALIVE'].unique()"
   ]
  },
  {
   "cell_type": "markdown",
   "metadata": {},
   "source": [
    "### Cleaning the Data"
   ]
  },
  {
   "cell_type": "code",
   "execution_count": 183,
   "metadata": {},
   "outputs": [
    {
     "data": {
      "text/plain": [
       "page_id              0\n",
       "name                 0\n",
       "urlslug              0\n",
       "ID                   0\n",
       "ALIGN                9\n",
       "EYE                  0\n",
       "HAIR                13\n",
       "SEX                  0\n",
       "GSM                 67\n",
       "ALIVE                0\n",
       "APPEARANCES          0\n",
       "FIRST APPEARANCE     0\n",
       "YEAR                 0\n",
       "dtype: int64"
      ]
     },
     "execution_count": 183,
     "metadata": {},
     "output_type": "execute_result"
    }
   ],
   "source": [
    "dc.isna().sum() "
   ]
  },
  {
   "cell_type": "code",
   "execution_count": 184,
   "metadata": {},
   "outputs": [
    {
     "data": {
      "text/plain": [
       "page_id              0.000000\n",
       "name                 0.000000\n",
       "urlslug              0.000000\n",
       "ID                   0.000000\n",
       "ALIGN               13.043478\n",
       "EYE                  0.000000\n",
       "HAIR                18.840580\n",
       "SEX                  0.000000\n",
       "GSM                 97.101449\n",
       "ALIVE                0.000000\n",
       "APPEARANCES          0.000000\n",
       "FIRST APPEARANCE     0.000000\n",
       "YEAR                 0.000000\n",
       "dtype: float64"
      ]
     },
     "execution_count": 184,
     "metadata": {},
     "output_type": "execute_result"
    }
   ],
   "source": [
    "(dc.isna().sum() / len(dc))*100"
   ]
  },
  {
   "cell_type": "code",
   "execution_count": 185,
   "metadata": {},
   "outputs": [],
   "source": [
    "#Remove GSM, HAIR, EYE, FIRST APPEARANCE, YEAR, urlslug,APPEARANCES\n",
    "dc_clean = dc.drop(['GSM','HAIR','FIRST APPEARANCE','APPEARANCES','EYE','YEAR','urlslug','page_id'], axis = 1)"
   ]
  },
  {
   "cell_type": "code",
   "execution_count": 186,
   "metadata": {},
   "outputs": [
    {
     "data": {
      "text/html": [
       "<div>\n",
       "<style scoped>\n",
       "    .dataframe tbody tr th:only-of-type {\n",
       "        vertical-align: middle;\n",
       "    }\n",
       "\n",
       "    .dataframe tbody tr th {\n",
       "        vertical-align: top;\n",
       "    }\n",
       "\n",
       "    .dataframe thead th {\n",
       "        text-align: right;\n",
       "    }\n",
       "</style>\n",
       "<table border=\"1\" class=\"dataframe\">\n",
       "  <thead>\n",
       "    <tr style=\"text-align: right;\">\n",
       "      <th></th>\n",
       "      <th>name</th>\n",
       "      <th>ID</th>\n",
       "      <th>ALIGN</th>\n",
       "      <th>SEX</th>\n",
       "      <th>ALIVE</th>\n",
       "    </tr>\n",
       "  </thead>\n",
       "  <tbody>\n",
       "    <tr>\n",
       "      <th>0</th>\n",
       "      <td>Batman (Bruce Wayne)</td>\n",
       "      <td>Secret Identity</td>\n",
       "      <td>Good Characters</td>\n",
       "      <td>Male Characters</td>\n",
       "      <td>Living Characters</td>\n",
       "    </tr>\n",
       "    <tr>\n",
       "      <th>1</th>\n",
       "      <td>Superman (Clark Kent)</td>\n",
       "      <td>Secret Identity</td>\n",
       "      <td>Good Characters</td>\n",
       "      <td>Male Characters</td>\n",
       "      <td>Living Characters</td>\n",
       "    </tr>\n",
       "    <tr>\n",
       "      <th>2</th>\n",
       "      <td>Green Lantern (Hal Jordan)</td>\n",
       "      <td>Secret Identity</td>\n",
       "      <td>Good Characters</td>\n",
       "      <td>Male Characters</td>\n",
       "      <td>Living Characters</td>\n",
       "    </tr>\n",
       "    <tr>\n",
       "      <th>3</th>\n",
       "      <td>James Gordon (New Earth)</td>\n",
       "      <td>Public Identity</td>\n",
       "      <td>Good Characters</td>\n",
       "      <td>Male Characters</td>\n",
       "      <td>Living Characters</td>\n",
       "    </tr>\n",
       "    <tr>\n",
       "      <th>4</th>\n",
       "      <td>Richard Grayson (New Earth)</td>\n",
       "      <td>Secret Identity</td>\n",
       "      <td>Good Characters</td>\n",
       "      <td>Male Characters</td>\n",
       "      <td>Living Characters</td>\n",
       "    </tr>\n",
       "    <tr>\n",
       "      <th>...</th>\n",
       "      <td>...</td>\n",
       "      <td>...</td>\n",
       "      <td>...</td>\n",
       "      <td>...</td>\n",
       "      <td>...</td>\n",
       "    </tr>\n",
       "    <tr>\n",
       "      <th>64</th>\n",
       "      <td>Swamp Thing (New Earth)</td>\n",
       "      <td>Public Identity</td>\n",
       "      <td>Good Characters</td>\n",
       "      <td>Male Characters</td>\n",
       "      <td>Living Characters</td>\n",
       "    </tr>\n",
       "    <tr>\n",
       "      <th>65</th>\n",
       "      <td>Renee Montoya (New Earth)</td>\n",
       "      <td>Secret Identity</td>\n",
       "      <td>Good Characters</td>\n",
       "      <td>Female Characters</td>\n",
       "      <td>Living Characters</td>\n",
       "    </tr>\n",
       "    <tr>\n",
       "      <th>66</th>\n",
       "      <td>Harvey Dent (New Earth)</td>\n",
       "      <td>Public Identity</td>\n",
       "      <td>Bad Characters</td>\n",
       "      <td>Male Characters</td>\n",
       "      <td>Living Characters</td>\n",
       "    </tr>\n",
       "    <tr>\n",
       "      <th>67</th>\n",
       "      <td>Courtney Whitmore (New Earth)</td>\n",
       "      <td>Secret Identity</td>\n",
       "      <td>Good Characters</td>\n",
       "      <td>Female Characters</td>\n",
       "      <td>Living Characters</td>\n",
       "    </tr>\n",
       "    <tr>\n",
       "      <th>68</th>\n",
       "      <td>Kendra Saunders (New Earth)</td>\n",
       "      <td>Secret Identity</td>\n",
       "      <td>Good Characters</td>\n",
       "      <td>Female Characters</td>\n",
       "      <td>Deceased Characters</td>\n",
       "    </tr>\n",
       "  </tbody>\n",
       "</table>\n",
       "<p>69 rows × 5 columns</p>\n",
       "</div>"
      ],
      "text/plain": [
       "                             name               ID            ALIGN  \\\n",
       "0            Batman (Bruce Wayne)  Secret Identity  Good Characters   \n",
       "1           Superman (Clark Kent)  Secret Identity  Good Characters   \n",
       "2      Green Lantern (Hal Jordan)  Secret Identity  Good Characters   \n",
       "3        James Gordon (New Earth)  Public Identity  Good Characters   \n",
       "4     Richard Grayson (New Earth)  Secret Identity  Good Characters   \n",
       "..                            ...              ...              ...   \n",
       "64        Swamp Thing (New Earth)  Public Identity  Good Characters   \n",
       "65      Renee Montoya (New Earth)  Secret Identity  Good Characters   \n",
       "66        Harvey Dent (New Earth)  Public Identity   Bad Characters   \n",
       "67  Courtney Whitmore (New Earth)  Secret Identity  Good Characters   \n",
       "68    Kendra Saunders (New Earth)  Secret Identity  Good Characters   \n",
       "\n",
       "                  SEX                ALIVE  \n",
       "0     Male Characters    Living Characters  \n",
       "1     Male Characters    Living Characters  \n",
       "2     Male Characters    Living Characters  \n",
       "3     Male Characters    Living Characters  \n",
       "4     Male Characters    Living Characters  \n",
       "..                ...                  ...  \n",
       "64    Male Characters    Living Characters  \n",
       "65  Female Characters    Living Characters  \n",
       "66    Male Characters    Living Characters  \n",
       "67  Female Characters    Living Characters  \n",
       "68  Female Characters  Deceased Characters  \n",
       "\n",
       "[69 rows x 5 columns]"
      ]
     },
     "execution_count": 186,
     "metadata": {},
     "output_type": "execute_result"
    }
   ],
   "source": [
    "dc_clean"
   ]
  },
  {
   "cell_type": "code",
   "execution_count": 187,
   "metadata": {},
   "outputs": [],
   "source": [
    "#Create column 'Universe' == DC \n",
    "dc_clean['Universe'] = 'DC'"
   ]
  },
  {
   "cell_type": "code",
   "execution_count": 188,
   "metadata": {},
   "outputs": [],
   "source": [
    "#Filling the missing values for ID, ALIGN, SEX, ALIVE "
   ]
  },
  {
   "cell_type": "code",
   "execution_count": 189,
   "metadata": {},
   "outputs": [],
   "source": [
    "dc_clean['ALIGN'] = dc_clean['ALIGN'].fillna('Neutral Characters')"
   ]
  },
  {
   "cell_type": "code",
   "execution_count": 190,
   "metadata": {},
   "outputs": [],
   "source": [
    "dc_clean['ID'] = dc_clean['ID'].fillna('Identity Unknown')"
   ]
  },
  {
   "cell_type": "code",
   "execution_count": 191,
   "metadata": {},
   "outputs": [],
   "source": [
    "dc_clean['ALIVE'] = dc_clean['ALIVE'].fillna('Unknown')"
   ]
  },
  {
   "cell_type": "code",
   "execution_count": 192,
   "metadata": {},
   "outputs": [],
   "source": [
    "dc_clean['SEX'] = dc_clean['SEX'].fillna('Unknown')"
   ]
  },
  {
   "cell_type": "markdown",
   "metadata": {},
   "source": [
    "----"
   ]
  },
  {
   "cell_type": "code",
   "execution_count": 193,
   "metadata": {},
   "outputs": [],
   "source": [
    "#Filtering for json files"
   ]
  },
  {
   "cell_type": "markdown",
   "metadata": {},
   "source": [
    "### Good Characters"
   ]
  },
  {
   "cell_type": "code",
   "execution_count": 194,
   "metadata": {},
   "outputs": [],
   "source": [
    "#Characters that from the DC universe who are good, male, alive with a public identity"
   ]
  },
  {
   "cell_type": "code",
   "execution_count": 195,
   "metadata": {},
   "outputs": [],
   "source": [
    "dc_good_male_alive_pi = dc_clean[(dc_clean['ALIGN'] == 'Good Characters') & (dc_clean['SEX'] == 'Male Characters')\n",
    "                                & (dc_clean['ALIVE'] == 'Living Characters') & (dc_clean['ID'] == 'Public Identity')\n",
    "                                ]"
   ]
  },
  {
   "cell_type": "code",
   "execution_count": 196,
   "metadata": {},
   "outputs": [],
   "source": [
    "dc_good_male_alive_pi = dc_good_male_alive_pi.drop(['ID','ALIGN','ALIVE','SEX','Universe'], axis = 1)"
   ]
  },
  {
   "cell_type": "code",
   "execution_count": 197,
   "metadata": {},
   "outputs": [
    {
     "data": {
      "text/html": [
       "<div>\n",
       "<style scoped>\n",
       "    .dataframe tbody tr th:only-of-type {\n",
       "        vertical-align: middle;\n",
       "    }\n",
       "\n",
       "    .dataframe tbody tr th {\n",
       "        vertical-align: top;\n",
       "    }\n",
       "\n",
       "    .dataframe thead th {\n",
       "        text-align: right;\n",
       "    }\n",
       "</style>\n",
       "<table border=\"1\" class=\"dataframe\">\n",
       "  <thead>\n",
       "    <tr style=\"text-align: right;\">\n",
       "      <th></th>\n",
       "      <th>name</th>\n",
       "    </tr>\n",
       "  </thead>\n",
       "  <tbody>\n",
       "    <tr>\n",
       "      <th>3</th>\n",
       "      <td>James Gordon (New Earth)</td>\n",
       "    </tr>\n",
       "    <tr>\n",
       "      <th>6</th>\n",
       "      <td>Aquaman (Arthur Curry)</td>\n",
       "    </tr>\n",
       "    <tr>\n",
       "      <th>13</th>\n",
       "      <td>Jason Garrick (New Earth)</td>\n",
       "    </tr>\n",
       "    <tr>\n",
       "      <th>15</th>\n",
       "      <td>Alfred Pennyworth (New Earth)</td>\n",
       "    </tr>\n",
       "    <tr>\n",
       "      <th>18</th>\n",
       "      <td>Raymond Palmer (New Earth)</td>\n",
       "    </tr>\n",
       "    <tr>\n",
       "      <th>23</th>\n",
       "      <td>Garfield Logan (New Earth)</td>\n",
       "    </tr>\n",
       "    <tr>\n",
       "      <th>24</th>\n",
       "      <td>Guy Gardner (New Earth)</td>\n",
       "    </tr>\n",
       "    <tr>\n",
       "      <th>25</th>\n",
       "      <td>Victor Stone (New Earth)</td>\n",
       "    </tr>\n",
       "    <tr>\n",
       "      <th>28</th>\n",
       "      <td>James Olsen (New Earth)</td>\n",
       "    </tr>\n",
       "    <tr>\n",
       "      <th>29</th>\n",
       "      <td>John Stewart (New Earth)</td>\n",
       "    </tr>\n",
       "    <tr>\n",
       "      <th>31</th>\n",
       "      <td>Franklin Rock (New Earth)</td>\n",
       "    </tr>\n",
       "    <tr>\n",
       "      <th>37</th>\n",
       "      <td>Michael Jon Carter (New Earth)</td>\n",
       "    </tr>\n",
       "    <tr>\n",
       "      <th>40</th>\n",
       "      <td>Harvey Bullock (New Earth)</td>\n",
       "    </tr>\n",
       "    <tr>\n",
       "      <th>48</th>\n",
       "      <td>John Constantine (New Earth)</td>\n",
       "    </tr>\n",
       "    <tr>\n",
       "      <th>54</th>\n",
       "      <td>John Henry Irons (New Earth)</td>\n",
       "    </tr>\n",
       "    <tr>\n",
       "      <th>64</th>\n",
       "      <td>Swamp Thing (New Earth)</td>\n",
       "    </tr>\n",
       "  </tbody>\n",
       "</table>\n",
       "</div>"
      ],
      "text/plain": [
       "                              name\n",
       "3         James Gordon (New Earth)\n",
       "6           Aquaman (Arthur Curry)\n",
       "13       Jason Garrick (New Earth)\n",
       "15   Alfred Pennyworth (New Earth)\n",
       "18      Raymond Palmer (New Earth)\n",
       "23      Garfield Logan (New Earth)\n",
       "24         Guy Gardner (New Earth)\n",
       "25        Victor Stone (New Earth)\n",
       "28         James Olsen (New Earth)\n",
       "29        John Stewart (New Earth)\n",
       "31       Franklin Rock (New Earth)\n",
       "37  Michael Jon Carter (New Earth)\n",
       "40      Harvey Bullock (New Earth)\n",
       "48    John Constantine (New Earth)\n",
       "54    John Henry Irons (New Earth)\n",
       "64         Swamp Thing (New Earth)"
      ]
     },
     "execution_count": 197,
     "metadata": {},
     "output_type": "execute_result"
    }
   ],
   "source": [
    "dc_good_male_alive_pi"
   ]
  },
  {
   "cell_type": "code",
   "execution_count": 198,
   "metadata": {},
   "outputs": [],
   "source": [
    "#Characters that from the DC universe who are good, male, alive with a secret identity"
   ]
  },
  {
   "cell_type": "code",
   "execution_count": 199,
   "metadata": {},
   "outputs": [],
   "source": [
    "dc_good_male_alive_si = dc_clean[(dc_clean['ALIGN'] == 'Good Characters') & (dc_clean['SEX'] == 'Male Characters')\n",
    "                                & (dc_clean['ALIVE'] == 'Living Characters') & (dc_clean['ID'] == 'Secret Identity')\n",
    "                                ]"
   ]
  },
  {
   "cell_type": "code",
   "execution_count": 202,
   "metadata": {},
   "outputs": [],
   "source": [
    "dc_good_male_alive_si = dc_good_male_alive_si.drop(['ID','ALIGN','ALIVE','SEX','Universe'], axis = 1)"
   ]
  },
  {
   "cell_type": "code",
   "execution_count": 203,
   "metadata": {},
   "outputs": [
    {
     "data": {
      "text/html": [
       "<div>\n",
       "<style scoped>\n",
       "    .dataframe tbody tr th:only-of-type {\n",
       "        vertical-align: middle;\n",
       "    }\n",
       "\n",
       "    .dataframe tbody tr th {\n",
       "        vertical-align: top;\n",
       "    }\n",
       "\n",
       "    .dataframe thead th {\n",
       "        text-align: right;\n",
       "    }\n",
       "</style>\n",
       "<table border=\"1\" class=\"dataframe\">\n",
       "  <thead>\n",
       "    <tr style=\"text-align: right;\">\n",
       "      <th></th>\n",
       "      <th>name</th>\n",
       "    </tr>\n",
       "  </thead>\n",
       "  <tbody>\n",
       "    <tr>\n",
       "      <th>0</th>\n",
       "      <td>Batman (Bruce Wayne)</td>\n",
       "    </tr>\n",
       "    <tr>\n",
       "      <th>1</th>\n",
       "      <td>Superman (Clark Kent)</td>\n",
       "    </tr>\n",
       "    <tr>\n",
       "      <th>2</th>\n",
       "      <td>Green Lantern (Hal Jordan)</td>\n",
       "    </tr>\n",
       "    <tr>\n",
       "      <th>4</th>\n",
       "      <td>Richard Grayson (New Earth)</td>\n",
       "    </tr>\n",
       "    <tr>\n",
       "      <th>7</th>\n",
       "      <td>Timothy Drake (New Earth)</td>\n",
       "    </tr>\n",
       "    <tr>\n",
       "      <th>9</th>\n",
       "      <td>Flash (Barry Allen)</td>\n",
       "    </tr>\n",
       "    <tr>\n",
       "      <th>16</th>\n",
       "      <td>Carter Hall (New Earth)</td>\n",
       "    </tr>\n",
       "    <tr>\n",
       "      <th>17</th>\n",
       "      <td>Kyle Rayner (New Earth)</td>\n",
       "    </tr>\n",
       "    <tr>\n",
       "      <th>26</th>\n",
       "      <td>Kon-El (New Earth)</td>\n",
       "    </tr>\n",
       "    <tr>\n",
       "      <th>45</th>\n",
       "      <td>Nathaniel Adam (New Earth)</td>\n",
       "    </tr>\n",
       "    <tr>\n",
       "      <th>46</th>\n",
       "      <td>Ronald Raymond (New Earth)</td>\n",
       "    </tr>\n",
       "    <tr>\n",
       "      <th>47</th>\n",
       "      <td>Red Tornado (New Earth)</td>\n",
       "    </tr>\n",
       "    <tr>\n",
       "      <th>55</th>\n",
       "      <td>Jefferson Pierce (New Earth)</td>\n",
       "    </tr>\n",
       "    <tr>\n",
       "      <th>59</th>\n",
       "      <td>William Batson (New Earth)</td>\n",
       "    </tr>\n",
       "  </tbody>\n",
       "</table>\n",
       "</div>"
      ],
      "text/plain": [
       "                            name\n",
       "0           Batman (Bruce Wayne)\n",
       "1          Superman (Clark Kent)\n",
       "2     Green Lantern (Hal Jordan)\n",
       "4    Richard Grayson (New Earth)\n",
       "7      Timothy Drake (New Earth)\n",
       "9            Flash (Barry Allen)\n",
       "16       Carter Hall (New Earth)\n",
       "17       Kyle Rayner (New Earth)\n",
       "26            Kon-El (New Earth)\n",
       "45    Nathaniel Adam (New Earth)\n",
       "46    Ronald Raymond (New Earth)\n",
       "47       Red Tornado (New Earth)\n",
       "55  Jefferson Pierce (New Earth)\n",
       "59    William Batson (New Earth)"
      ]
     },
     "execution_count": 203,
     "metadata": {},
     "output_type": "execute_result"
    }
   ],
   "source": [
    "dc_good_male_alive_si"
   ]
  },
  {
   "cell_type": "code",
   "execution_count": 204,
   "metadata": {},
   "outputs": [],
   "source": [
    "#Characters that from the DC universe who are good, male, dead with a public identity"
   ]
  },
  {
   "cell_type": "code",
   "execution_count": 209,
   "metadata": {},
   "outputs": [],
   "source": [
    "dc_good_male_dead_si = dc_clean[(dc_clean['ALIGN'] == 'Good Characters') & (dc_clean['SEX'] == 'Male Characters')\n",
    "                                & (dc_clean['ALIVE'] == 'Dead Characters') & (dc_clean['ID'] == 'Secret Identity')\n",
    "                                ]"
   ]
  },
  {
   "cell_type": "code",
   "execution_count": 210,
   "metadata": {},
   "outputs": [
    {
     "data": {
      "text/html": [
       "<div>\n",
       "<style scoped>\n",
       "    .dataframe tbody tr th:only-of-type {\n",
       "        vertical-align: middle;\n",
       "    }\n",
       "\n",
       "    .dataframe tbody tr th {\n",
       "        vertical-align: top;\n",
       "    }\n",
       "\n",
       "    .dataframe thead th {\n",
       "        text-align: right;\n",
       "    }\n",
       "</style>\n",
       "<table border=\"1\" class=\"dataframe\">\n",
       "  <thead>\n",
       "    <tr style=\"text-align: right;\">\n",
       "      <th></th>\n",
       "      <th>name</th>\n",
       "      <th>ID</th>\n",
       "      <th>ALIGN</th>\n",
       "      <th>SEX</th>\n",
       "      <th>ALIVE</th>\n",
       "      <th>Universe</th>\n",
       "    </tr>\n",
       "  </thead>\n",
       "  <tbody>\n",
       "  </tbody>\n",
       "</table>\n",
       "</div>"
      ],
      "text/plain": [
       "Empty DataFrame\n",
       "Columns: [name, ID, ALIGN, SEX, ALIVE, Universe]\n",
       "Index: []"
      ]
     },
     "execution_count": 210,
     "metadata": {},
     "output_type": "execute_result"
    }
   ],
   "source": [
    "dc_good_male_dead_si"
   ]
  },
  {
   "cell_type": "code",
   "execution_count": 211,
   "metadata": {},
   "outputs": [],
   "source": [
    "dc_good_male_dead_pi = dc_clean[(dc_clean['ALIGN'] == 'Good Characters') & (dc_clean['SEX'] == 'Male Characters')\n",
    "                                & (dc_clean['ALIVE'] == 'Dead Characters') & (dc_clean['ID'] == 'Public Identity')\n",
    "                                ]"
   ]
  },
  {
   "cell_type": "code",
   "execution_count": 212,
   "metadata": {},
   "outputs": [
    {
     "data": {
      "text/html": [
       "<div>\n",
       "<style scoped>\n",
       "    .dataframe tbody tr th:only-of-type {\n",
       "        vertical-align: middle;\n",
       "    }\n",
       "\n",
       "    .dataframe tbody tr th {\n",
       "        vertical-align: top;\n",
       "    }\n",
       "\n",
       "    .dataframe thead th {\n",
       "        text-align: right;\n",
       "    }\n",
       "</style>\n",
       "<table border=\"1\" class=\"dataframe\">\n",
       "  <thead>\n",
       "    <tr style=\"text-align: right;\">\n",
       "      <th></th>\n",
       "      <th>name</th>\n",
       "      <th>ID</th>\n",
       "      <th>ALIGN</th>\n",
       "      <th>SEX</th>\n",
       "      <th>ALIVE</th>\n",
       "      <th>Universe</th>\n",
       "    </tr>\n",
       "  </thead>\n",
       "  <tbody>\n",
       "  </tbody>\n",
       "</table>\n",
       "</div>"
      ],
      "text/plain": [
       "Empty DataFrame\n",
       "Columns: [name, ID, ALIGN, SEX, ALIVE, Universe]\n",
       "Index: []"
      ]
     },
     "execution_count": 212,
     "metadata": {},
     "output_type": "execute_result"
    }
   ],
   "source": [
    "dc_good_male_dead_pi"
   ]
  },
  {
   "cell_type": "markdown",
   "metadata": {},
   "source": [
    "----"
   ]
  },
  {
   "cell_type": "code",
   "execution_count": 213,
   "metadata": {},
   "outputs": [],
   "source": [
    "#Characters that from the DC universe who are good, female, alive with a public identity"
   ]
  },
  {
   "cell_type": "code",
   "execution_count": 214,
   "metadata": {},
   "outputs": [],
   "source": [
    "dc_good_female_alive_pi = dc_clean[(dc_clean['ALIGN'] == 'Good Characters') & (dc_clean['SEX'] == 'Female Characters')\n",
    "                                & (dc_clean['ALIVE'] == 'Living Characters') & (dc_clean['ID'] == 'Public Identity')\n",
    "                                ]"
   ]
  },
  {
   "cell_type": "code",
   "execution_count": 215,
   "metadata": {},
   "outputs": [
    {
     "data": {
      "text/html": [
       "<div>\n",
       "<style scoped>\n",
       "    .dataframe tbody tr th:only-of-type {\n",
       "        vertical-align: middle;\n",
       "    }\n",
       "\n",
       "    .dataframe tbody tr th {\n",
       "        vertical-align: top;\n",
       "    }\n",
       "\n",
       "    .dataframe thead th {\n",
       "        text-align: right;\n",
       "    }\n",
       "</style>\n",
       "<table border=\"1\" class=\"dataframe\">\n",
       "  <thead>\n",
       "    <tr style=\"text-align: right;\">\n",
       "      <th></th>\n",
       "      <th>name</th>\n",
       "      <th>ID</th>\n",
       "      <th>ALIGN</th>\n",
       "      <th>SEX</th>\n",
       "      <th>ALIVE</th>\n",
       "      <th>Universe</th>\n",
       "    </tr>\n",
       "  </thead>\n",
       "  <tbody>\n",
       "    <tr>\n",
       "      <th>5</th>\n",
       "      <td>Wonder Woman (Diana Prince)</td>\n",
       "      <td>Public Identity</td>\n",
       "      <td>Good Characters</td>\n",
       "      <td>Female Characters</td>\n",
       "      <td>Living Characters</td>\n",
       "      <td>DC</td>\n",
       "    </tr>\n",
       "    <tr>\n",
       "      <th>8</th>\n",
       "      <td>Dinah Laurel Lance (New Earth)</td>\n",
       "      <td>Public Identity</td>\n",
       "      <td>Good Characters</td>\n",
       "      <td>Female Characters</td>\n",
       "      <td>Living Characters</td>\n",
       "      <td>DC</td>\n",
       "    </tr>\n",
       "    <tr>\n",
       "      <th>14</th>\n",
       "      <td>Lois Lane (New Earth)</td>\n",
       "      <td>Public Identity</td>\n",
       "      <td>Good Characters</td>\n",
       "      <td>Female Characters</td>\n",
       "      <td>Living Characters</td>\n",
       "      <td>DC</td>\n",
       "    </tr>\n",
       "    <tr>\n",
       "      <th>34</th>\n",
       "      <td>Zatanna Zatara (New Earth)</td>\n",
       "      <td>Public Identity</td>\n",
       "      <td>Good Characters</td>\n",
       "      <td>Female Characters</td>\n",
       "      <td>Living Characters</td>\n",
       "      <td>DC</td>\n",
       "    </tr>\n",
       "    <tr>\n",
       "      <th>38</th>\n",
       "      <td>Cassandra Sandsmark (New Earth)</td>\n",
       "      <td>Public Identity</td>\n",
       "      <td>Good Characters</td>\n",
       "      <td>Female Characters</td>\n",
       "      <td>Living Characters</td>\n",
       "      <td>DC</td>\n",
       "    </tr>\n",
       "  </tbody>\n",
       "</table>\n",
       "</div>"
      ],
      "text/plain": [
       "                               name               ID            ALIGN  \\\n",
       "5       Wonder Woman (Diana Prince)  Public Identity  Good Characters   \n",
       "8    Dinah Laurel Lance (New Earth)  Public Identity  Good Characters   \n",
       "14            Lois Lane (New Earth)  Public Identity  Good Characters   \n",
       "34       Zatanna Zatara (New Earth)  Public Identity  Good Characters   \n",
       "38  Cassandra Sandsmark (New Earth)  Public Identity  Good Characters   \n",
       "\n",
       "                  SEX              ALIVE Universe  \n",
       "5   Female Characters  Living Characters       DC  \n",
       "8   Female Characters  Living Characters       DC  \n",
       "14  Female Characters  Living Characters       DC  \n",
       "34  Female Characters  Living Characters       DC  \n",
       "38  Female Characters  Living Characters       DC  "
      ]
     },
     "execution_count": 215,
     "metadata": {},
     "output_type": "execute_result"
    }
   ],
   "source": [
    "dc_good_female_alive_pi"
   ]
  },
  {
   "cell_type": "code",
   "execution_count": 216,
   "metadata": {},
   "outputs": [],
   "source": [
    "#Characters that from the DC universe who are good, female, alive with a secret identity"
   ]
  },
  {
   "cell_type": "code",
   "execution_count": 217,
   "metadata": {},
   "outputs": [],
   "source": [
    "dc_good_female_alive_si = dc_clean[(dc_clean['ALIGN'] == 'Good Characters') & (dc_clean['SEX'] == 'Female Characters')\n",
    "                                & (dc_clean['ALIVE'] == 'Living Characters') & (dc_clean['ID'] == 'Secret Identity')\n",
    "                                ]"
   ]
  },
  {
   "cell_type": "code",
   "execution_count": 218,
   "metadata": {},
   "outputs": [
    {
     "data": {
      "text/html": [
       "<div>\n",
       "<style scoped>\n",
       "    .dataframe tbody tr th:only-of-type {\n",
       "        vertical-align: middle;\n",
       "    }\n",
       "\n",
       "    .dataframe tbody tr th {\n",
       "        vertical-align: top;\n",
       "    }\n",
       "\n",
       "    .dataframe thead th {\n",
       "        text-align: right;\n",
       "    }\n",
       "</style>\n",
       "<table border=\"1\" class=\"dataframe\">\n",
       "  <thead>\n",
       "    <tr style=\"text-align: right;\">\n",
       "      <th></th>\n",
       "      <th>name</th>\n",
       "      <th>ID</th>\n",
       "      <th>ALIGN</th>\n",
       "      <th>SEX</th>\n",
       "      <th>ALIVE</th>\n",
       "      <th>Universe</th>\n",
       "    </tr>\n",
       "  </thead>\n",
       "  <tbody>\n",
       "    <tr>\n",
       "      <th>10</th>\n",
       "      <td>GenderTest</td>\n",
       "      <td>Secret Identity</td>\n",
       "      <td>Good Characters</td>\n",
       "      <td>Female Characters</td>\n",
       "      <td>Living Characters</td>\n",
       "      <td>DC</td>\n",
       "    </tr>\n",
       "    <tr>\n",
       "      <th>12</th>\n",
       "      <td>Barbara Gordon (New Earth)</td>\n",
       "      <td>Secret Identity</td>\n",
       "      <td>Good Characters</td>\n",
       "      <td>Female Characters</td>\n",
       "      <td>Living Characters</td>\n",
       "      <td>DC</td>\n",
       "    </tr>\n",
       "    <tr>\n",
       "      <th>21</th>\n",
       "      <td>Kara Zor-L (Earth-Two)</td>\n",
       "      <td>Secret Identity</td>\n",
       "      <td>Good Characters</td>\n",
       "      <td>Female Characters</td>\n",
       "      <td>Living Characters</td>\n",
       "      <td>DC</td>\n",
       "    </tr>\n",
       "    <tr>\n",
       "      <th>41</th>\n",
       "      <td>Rachel Roth (New Earth)</td>\n",
       "      <td>Secret Identity</td>\n",
       "      <td>Good Characters</td>\n",
       "      <td>Female Characters</td>\n",
       "      <td>Living Characters</td>\n",
       "      <td>DC</td>\n",
       "    </tr>\n",
       "    <tr>\n",
       "      <th>42</th>\n",
       "      <td>Helena Bertinelli (New Earth)</td>\n",
       "      <td>Secret Identity</td>\n",
       "      <td>Good Characters</td>\n",
       "      <td>Female Characters</td>\n",
       "      <td>Living Characters</td>\n",
       "      <td>DC</td>\n",
       "    </tr>\n",
       "    <tr>\n",
       "      <th>58</th>\n",
       "      <td>Beatriz da Costa (New Earth)</td>\n",
       "      <td>Secret Identity</td>\n",
       "      <td>Good Characters</td>\n",
       "      <td>Female Characters</td>\n",
       "      <td>Living Characters</td>\n",
       "      <td>DC</td>\n",
       "    </tr>\n",
       "    <tr>\n",
       "      <th>63</th>\n",
       "      <td>Jennifer-Lynn Hayden (New Earth)</td>\n",
       "      <td>Secret Identity</td>\n",
       "      <td>Good Characters</td>\n",
       "      <td>Female Characters</td>\n",
       "      <td>Living Characters</td>\n",
       "      <td>DC</td>\n",
       "    </tr>\n",
       "    <tr>\n",
       "      <th>65</th>\n",
       "      <td>Renee Montoya (New Earth)</td>\n",
       "      <td>Secret Identity</td>\n",
       "      <td>Good Characters</td>\n",
       "      <td>Female Characters</td>\n",
       "      <td>Living Characters</td>\n",
       "      <td>DC</td>\n",
       "    </tr>\n",
       "    <tr>\n",
       "      <th>67</th>\n",
       "      <td>Courtney Whitmore (New Earth)</td>\n",
       "      <td>Secret Identity</td>\n",
       "      <td>Good Characters</td>\n",
       "      <td>Female Characters</td>\n",
       "      <td>Living Characters</td>\n",
       "      <td>DC</td>\n",
       "    </tr>\n",
       "  </tbody>\n",
       "</table>\n",
       "</div>"
      ],
      "text/plain": [
       "                                name               ID            ALIGN  \\\n",
       "10                        GenderTest  Secret Identity  Good Characters   \n",
       "12        Barbara Gordon (New Earth)  Secret Identity  Good Characters   \n",
       "21            Kara Zor-L (Earth-Two)  Secret Identity  Good Characters   \n",
       "41           Rachel Roth (New Earth)  Secret Identity  Good Characters   \n",
       "42     Helena Bertinelli (New Earth)  Secret Identity  Good Characters   \n",
       "58      Beatriz da Costa (New Earth)  Secret Identity  Good Characters   \n",
       "63  Jennifer-Lynn Hayden (New Earth)  Secret Identity  Good Characters   \n",
       "65         Renee Montoya (New Earth)  Secret Identity  Good Characters   \n",
       "67     Courtney Whitmore (New Earth)  Secret Identity  Good Characters   \n",
       "\n",
       "                  SEX              ALIVE Universe  \n",
       "10  Female Characters  Living Characters       DC  \n",
       "12  Female Characters  Living Characters       DC  \n",
       "21  Female Characters  Living Characters       DC  \n",
       "41  Female Characters  Living Characters       DC  \n",
       "42  Female Characters  Living Characters       DC  \n",
       "58  Female Characters  Living Characters       DC  \n",
       "63  Female Characters  Living Characters       DC  \n",
       "65  Female Characters  Living Characters       DC  \n",
       "67  Female Characters  Living Characters       DC  "
      ]
     },
     "execution_count": 218,
     "metadata": {},
     "output_type": "execute_result"
    }
   ],
   "source": [
    "dc_good_female_alive_si"
   ]
  },
  {
   "cell_type": "code",
   "execution_count": 219,
   "metadata": {},
   "outputs": [],
   "source": [
    "#Characters that from the DC universe who are good, female, dead with a public identity"
   ]
  },
  {
   "cell_type": "code",
   "execution_count": 220,
   "metadata": {},
   "outputs": [],
   "source": [
    "dc_good_female_dead_pi = dc_clean[(dc_clean['ALIGN'] == 'Good Characters') & (dc_clean['SEX'] == 'Female Characters')\n",
    "                                & (dc_clean['ALIVE'] == 'Dead Characters') & (dc_clean['ID'] == 'Public Identity')\n",
    "                                ]"
   ]
  },
  {
   "cell_type": "code",
   "execution_count": 221,
   "metadata": {},
   "outputs": [
    {
     "data": {
      "text/html": [
       "<div>\n",
       "<style scoped>\n",
       "    .dataframe tbody tr th:only-of-type {\n",
       "        vertical-align: middle;\n",
       "    }\n",
       "\n",
       "    .dataframe tbody tr th {\n",
       "        vertical-align: top;\n",
       "    }\n",
       "\n",
       "    .dataframe thead th {\n",
       "        text-align: right;\n",
       "    }\n",
       "</style>\n",
       "<table border=\"1\" class=\"dataframe\">\n",
       "  <thead>\n",
       "    <tr style=\"text-align: right;\">\n",
       "      <th></th>\n",
       "      <th>name</th>\n",
       "      <th>ID</th>\n",
       "      <th>ALIGN</th>\n",
       "      <th>SEX</th>\n",
       "      <th>ALIVE</th>\n",
       "      <th>Universe</th>\n",
       "    </tr>\n",
       "  </thead>\n",
       "  <tbody>\n",
       "  </tbody>\n",
       "</table>\n",
       "</div>"
      ],
      "text/plain": [
       "Empty DataFrame\n",
       "Columns: [name, ID, ALIGN, SEX, ALIVE, Universe]\n",
       "Index: []"
      ]
     },
     "execution_count": 221,
     "metadata": {},
     "output_type": "execute_result"
    }
   ],
   "source": [
    "dc_good_female_dead_pi"
   ]
  },
  {
   "cell_type": "code",
   "execution_count": 222,
   "metadata": {},
   "outputs": [],
   "source": [
    "#Characters that from the DC universe who are good, female, dead with a secret identity"
   ]
  },
  {
   "cell_type": "code",
   "execution_count": 223,
   "metadata": {},
   "outputs": [],
   "source": [
    "dc_good_female_dead_si = dc_clean[(dc_clean['ALIGN'] == 'Good Characters') & (dc_clean['SEX'] == 'Female Characters')\n",
    "                                & (dc_clean['ALIVE'] == 'Dead Characters') & (dc_clean['ID'] == 'Secret Identity')\n",
    "                                ]"
   ]
  },
  {
   "cell_type": "code",
   "execution_count": 224,
   "metadata": {},
   "outputs": [
    {
     "data": {
      "text/html": [
       "<div>\n",
       "<style scoped>\n",
       "    .dataframe tbody tr th:only-of-type {\n",
       "        vertical-align: middle;\n",
       "    }\n",
       "\n",
       "    .dataframe tbody tr th {\n",
       "        vertical-align: top;\n",
       "    }\n",
       "\n",
       "    .dataframe thead th {\n",
       "        text-align: right;\n",
       "    }\n",
       "</style>\n",
       "<table border=\"1\" class=\"dataframe\">\n",
       "  <thead>\n",
       "    <tr style=\"text-align: right;\">\n",
       "      <th></th>\n",
       "      <th>name</th>\n",
       "      <th>ID</th>\n",
       "      <th>ALIGN</th>\n",
       "      <th>SEX</th>\n",
       "      <th>ALIVE</th>\n",
       "      <th>Universe</th>\n",
       "    </tr>\n",
       "  </thead>\n",
       "  <tbody>\n",
       "  </tbody>\n",
       "</table>\n",
       "</div>"
      ],
      "text/plain": [
       "Empty DataFrame\n",
       "Columns: [name, ID, ALIGN, SEX, ALIVE, Universe]\n",
       "Index: []"
      ]
     },
     "execution_count": 224,
     "metadata": {},
     "output_type": "execute_result"
    }
   ],
   "source": [
    "dc_good_female_dead_si"
   ]
  },
  {
   "cell_type": "markdown",
   "metadata": {},
   "source": [
    "----"
   ]
  },
  {
   "cell_type": "markdown",
   "metadata": {},
   "source": [
    "### Bad Characters"
   ]
  },
  {
   "cell_type": "code",
   "execution_count": 225,
   "metadata": {},
   "outputs": [],
   "source": [
    "#Characters that from the DC universe who are bad, male, alive with a public identity"
   ]
  },
  {
   "cell_type": "code",
   "execution_count": 226,
   "metadata": {},
   "outputs": [],
   "source": [
    "dc_bad_male_alive_pi = dc_clean[(dc_clean['ALIGN'] == 'Bad Characters') & (dc_clean['SEX'] == 'Male Characters')\n",
    "                                & (dc_clean['ALIVE'] == 'Living Characters') & (dc_clean['ID'] == 'Public Identity')\n",
    "                                ]"
   ]
  },
  {
   "cell_type": "code",
   "execution_count": 227,
   "metadata": {},
   "outputs": [
    {
     "data": {
      "text/html": [
       "<div>\n",
       "<style scoped>\n",
       "    .dataframe tbody tr th:only-of-type {\n",
       "        vertical-align: middle;\n",
       "    }\n",
       "\n",
       "    .dataframe tbody tr th {\n",
       "        vertical-align: top;\n",
       "    }\n",
       "\n",
       "    .dataframe thead th {\n",
       "        text-align: right;\n",
       "    }\n",
       "</style>\n",
       "<table border=\"1\" class=\"dataframe\">\n",
       "  <thead>\n",
       "    <tr style=\"text-align: right;\">\n",
       "      <th></th>\n",
       "      <th>name</th>\n",
       "      <th>ID</th>\n",
       "      <th>ALIGN</th>\n",
       "      <th>SEX</th>\n",
       "      <th>ALIVE</th>\n",
       "      <th>Universe</th>\n",
       "    </tr>\n",
       "  </thead>\n",
       "  <tbody>\n",
       "    <tr>\n",
       "      <th>19</th>\n",
       "      <td>Alexander Luthor (New Earth)</td>\n",
       "      <td>Public Identity</td>\n",
       "      <td>Bad Characters</td>\n",
       "      <td>Male Characters</td>\n",
       "      <td>Living Characters</td>\n",
       "      <td>DC</td>\n",
       "    </tr>\n",
       "    <tr>\n",
       "      <th>66</th>\n",
       "      <td>Harvey Dent (New Earth)</td>\n",
       "      <td>Public Identity</td>\n",
       "      <td>Bad Characters</td>\n",
       "      <td>Male Characters</td>\n",
       "      <td>Living Characters</td>\n",
       "      <td>DC</td>\n",
       "    </tr>\n",
       "  </tbody>\n",
       "</table>\n",
       "</div>"
      ],
      "text/plain": [
       "                            name               ID           ALIGN  \\\n",
       "19  Alexander Luthor (New Earth)  Public Identity  Bad Characters   \n",
       "66       Harvey Dent (New Earth)  Public Identity  Bad Characters   \n",
       "\n",
       "                SEX              ALIVE Universe  \n",
       "19  Male Characters  Living Characters       DC  \n",
       "66  Male Characters  Living Characters       DC  "
      ]
     },
     "execution_count": 227,
     "metadata": {},
     "output_type": "execute_result"
    }
   ],
   "source": [
    "dc_bad_male_alive_pi"
   ]
  },
  {
   "cell_type": "code",
   "execution_count": null,
   "metadata": {},
   "outputs": [],
   "source": [
    "#Characters that from the DC universe who are bad, male, alive with a secret identity"
   ]
  },
  {
   "cell_type": "code",
   "execution_count": 228,
   "metadata": {},
   "outputs": [],
   "source": [
    "dc_bad_male_alive_si = dc_clean[(dc_clean['ALIGN'] == 'Bad Characters') & (dc_clean['SEX'] == 'Male Characters')\n",
    "                                & (dc_clean['ALIVE'] == 'Living Characters') & (dc_clean['ID'] == 'Secret Identity')\n",
    "                                ]"
   ]
  },
  {
   "cell_type": "code",
   "execution_count": 229,
   "metadata": {},
   "outputs": [
    {
     "data": {
      "text/html": [
       "<div>\n",
       "<style scoped>\n",
       "    .dataframe tbody tr th:only-of-type {\n",
       "        vertical-align: middle;\n",
       "    }\n",
       "\n",
       "    .dataframe tbody tr th {\n",
       "        vertical-align: top;\n",
       "    }\n",
       "\n",
       "    .dataframe thead th {\n",
       "        text-align: right;\n",
       "    }\n",
       "</style>\n",
       "<table border=\"1\" class=\"dataframe\">\n",
       "  <thead>\n",
       "    <tr style=\"text-align: right;\">\n",
       "      <th></th>\n",
       "      <th>name</th>\n",
       "      <th>ID</th>\n",
       "      <th>ALIGN</th>\n",
       "      <th>SEX</th>\n",
       "      <th>ALIVE</th>\n",
       "      <th>Universe</th>\n",
       "    </tr>\n",
       "  </thead>\n",
       "  <tbody>\n",
       "    <tr>\n",
       "      <th>30</th>\n",
       "      <td>Joker (New Earth)</td>\n",
       "      <td>Secret Identity</td>\n",
       "      <td>Bad Characters</td>\n",
       "      <td>Male Characters</td>\n",
       "      <td>Living Characters</td>\n",
       "      <td>DC</td>\n",
       "    </tr>\n",
       "  </tbody>\n",
       "</table>\n",
       "</div>"
      ],
      "text/plain": [
       "                 name               ID           ALIGN              SEX  \\\n",
       "30  Joker (New Earth)  Secret Identity  Bad Characters  Male Characters   \n",
       "\n",
       "                ALIVE Universe  \n",
       "30  Living Characters       DC  "
      ]
     },
     "execution_count": 229,
     "metadata": {},
     "output_type": "execute_result"
    }
   ],
   "source": [
    "dc_bad_male_alive_si"
   ]
  },
  {
   "cell_type": "code",
   "execution_count": 230,
   "metadata": {},
   "outputs": [],
   "source": [
    "#Characters that from the DC universe who are bad, male, dead with a public identity"
   ]
  },
  {
   "cell_type": "code",
   "execution_count": 231,
   "metadata": {},
   "outputs": [],
   "source": [
    "dc_bad_male_dead_pi = dc_clean[(dc_clean['ALIGN'] == 'Bad Characters') & (dc_clean['SEX'] == 'Male Characters')\n",
    "                                & (dc_clean['ALIVE'] == 'Dead Characters') & (dc_clean['ID'] == 'Public Identity')\n",
    "                                ]"
   ]
  },
  {
   "cell_type": "code",
   "execution_count": 232,
   "metadata": {},
   "outputs": [
    {
     "data": {
      "text/html": [
       "<div>\n",
       "<style scoped>\n",
       "    .dataframe tbody tr th:only-of-type {\n",
       "        vertical-align: middle;\n",
       "    }\n",
       "\n",
       "    .dataframe tbody tr th {\n",
       "        vertical-align: top;\n",
       "    }\n",
       "\n",
       "    .dataframe thead th {\n",
       "        text-align: right;\n",
       "    }\n",
       "</style>\n",
       "<table border=\"1\" class=\"dataframe\">\n",
       "  <thead>\n",
       "    <tr style=\"text-align: right;\">\n",
       "      <th></th>\n",
       "      <th>name</th>\n",
       "      <th>ID</th>\n",
       "      <th>ALIGN</th>\n",
       "      <th>SEX</th>\n",
       "      <th>ALIVE</th>\n",
       "      <th>Universe</th>\n",
       "    </tr>\n",
       "  </thead>\n",
       "  <tbody>\n",
       "  </tbody>\n",
       "</table>\n",
       "</div>"
      ],
      "text/plain": [
       "Empty DataFrame\n",
       "Columns: [name, ID, ALIGN, SEX, ALIVE, Universe]\n",
       "Index: []"
      ]
     },
     "execution_count": 232,
     "metadata": {},
     "output_type": "execute_result"
    }
   ],
   "source": [
    "dc_bad_male_dead_pi"
   ]
  },
  {
   "cell_type": "code",
   "execution_count": 233,
   "metadata": {},
   "outputs": [],
   "source": [
    "dc_bad_male_dead_si = dc_clean[(dc_clean['ALIGN'] == 'Bad Characters') & (dc_clean['SEX'] == 'Male Characters')\n",
    "                                & (dc_clean['ALIVE'] == 'Dead Characters') & (dc_clean['ID'] == 'Secret Identity')\n",
    "                                ]"
   ]
  },
  {
   "cell_type": "code",
   "execution_count": 234,
   "metadata": {},
   "outputs": [
    {
     "data": {
      "text/html": [
       "<div>\n",
       "<style scoped>\n",
       "    .dataframe tbody tr th:only-of-type {\n",
       "        vertical-align: middle;\n",
       "    }\n",
       "\n",
       "    .dataframe tbody tr th {\n",
       "        vertical-align: top;\n",
       "    }\n",
       "\n",
       "    .dataframe thead th {\n",
       "        text-align: right;\n",
       "    }\n",
       "</style>\n",
       "<table border=\"1\" class=\"dataframe\">\n",
       "  <thead>\n",
       "    <tr style=\"text-align: right;\">\n",
       "      <th></th>\n",
       "      <th>name</th>\n",
       "      <th>ID</th>\n",
       "      <th>ALIGN</th>\n",
       "      <th>SEX</th>\n",
       "      <th>ALIVE</th>\n",
       "      <th>Universe</th>\n",
       "    </tr>\n",
       "  </thead>\n",
       "  <tbody>\n",
       "  </tbody>\n",
       "</table>\n",
       "</div>"
      ],
      "text/plain": [
       "Empty DataFrame\n",
       "Columns: [name, ID, ALIGN, SEX, ALIVE, Universe]\n",
       "Index: []"
      ]
     },
     "execution_count": 234,
     "metadata": {},
     "output_type": "execute_result"
    }
   ],
   "source": [
    "dc_bad_male_dead_si"
   ]
  },
  {
   "cell_type": "markdown",
   "metadata": {},
   "source": [
    "----"
   ]
  },
  {
   "cell_type": "code",
   "execution_count": 235,
   "metadata": {},
   "outputs": [],
   "source": [
    "#Characters that from the DC universe who are bad, female, alive with a public identity"
   ]
  },
  {
   "cell_type": "code",
   "execution_count": 236,
   "metadata": {},
   "outputs": [],
   "source": [
    "dc_bad_female_alive_pi = dc_clean[(dc_clean['ALIGN'] == 'Bad Characters') & (dc_clean['SEX'] == 'Female Characters')\n",
    "                                & (dc_clean['ALIVE'] == 'Living Characters') & (dc_clean['ID'] == 'Public Identity')\n",
    "                                ]"
   ]
  },
  {
   "cell_type": "code",
   "execution_count": 237,
   "metadata": {},
   "outputs": [
    {
     "data": {
      "text/html": [
       "<div>\n",
       "<style scoped>\n",
       "    .dataframe tbody tr th:only-of-type {\n",
       "        vertical-align: middle;\n",
       "    }\n",
       "\n",
       "    .dataframe tbody tr th {\n",
       "        vertical-align: top;\n",
       "    }\n",
       "\n",
       "    .dataframe thead th {\n",
       "        text-align: right;\n",
       "    }\n",
       "</style>\n",
       "<table border=\"1\" class=\"dataframe\">\n",
       "  <thead>\n",
       "    <tr style=\"text-align: right;\">\n",
       "      <th></th>\n",
       "      <th>name</th>\n",
       "      <th>ID</th>\n",
       "      <th>ALIGN</th>\n",
       "      <th>SEX</th>\n",
       "      <th>ALIVE</th>\n",
       "      <th>Universe</th>\n",
       "    </tr>\n",
       "  </thead>\n",
       "  <tbody>\n",
       "  </tbody>\n",
       "</table>\n",
       "</div>"
      ],
      "text/plain": [
       "Empty DataFrame\n",
       "Columns: [name, ID, ALIGN, SEX, ALIVE, Universe]\n",
       "Index: []"
      ]
     },
     "execution_count": 237,
     "metadata": {},
     "output_type": "execute_result"
    }
   ],
   "source": [
    "dc_bad_female_alive_pi"
   ]
  },
  {
   "cell_type": "code",
   "execution_count": 238,
   "metadata": {},
   "outputs": [],
   "source": [
    "#Characters that from the DC universe who are bad, female, alive with a secret identity"
   ]
  },
  {
   "cell_type": "code",
   "execution_count": 239,
   "metadata": {},
   "outputs": [],
   "source": [
    "dc_bad_female_alive_si = dc_clean[(dc_clean['ALIGN'] == 'Bad Characters') & (dc_clean['SEX'] == 'Female Characters')\n",
    "                                & (dc_clean['ALIVE'] == 'Living Characters') & (dc_clean['ID'] == 'Secret Identity')\n",
    "                                ]"
   ]
  },
  {
   "cell_type": "code",
   "execution_count": 240,
   "metadata": {},
   "outputs": [
    {
     "data": {
      "text/html": [
       "<div>\n",
       "<style scoped>\n",
       "    .dataframe tbody tr th:only-of-type {\n",
       "        vertical-align: middle;\n",
       "    }\n",
       "\n",
       "    .dataframe tbody tr th {\n",
       "        vertical-align: top;\n",
       "    }\n",
       "\n",
       "    .dataframe thead th {\n",
       "        text-align: right;\n",
       "    }\n",
       "</style>\n",
       "<table border=\"1\" class=\"dataframe\">\n",
       "  <thead>\n",
       "    <tr style=\"text-align: right;\">\n",
       "      <th></th>\n",
       "      <th>name</th>\n",
       "      <th>ID</th>\n",
       "      <th>ALIGN</th>\n",
       "      <th>SEX</th>\n",
       "      <th>ALIVE</th>\n",
       "      <th>Universe</th>\n",
       "    </tr>\n",
       "  </thead>\n",
       "  <tbody>\n",
       "  </tbody>\n",
       "</table>\n",
       "</div>"
      ],
      "text/plain": [
       "Empty DataFrame\n",
       "Columns: [name, ID, ALIGN, SEX, ALIVE, Universe]\n",
       "Index: []"
      ]
     },
     "execution_count": 240,
     "metadata": {},
     "output_type": "execute_result"
    }
   ],
   "source": [
    "dc_bad_female_alive_si"
   ]
  },
  {
   "cell_type": "code",
   "execution_count": 241,
   "metadata": {},
   "outputs": [],
   "source": [
    "#Characters that from the DC universe who are bad, female, dead with a public identity"
   ]
  },
  {
   "cell_type": "code",
   "execution_count": 242,
   "metadata": {},
   "outputs": [],
   "source": [
    "dc_bad_female_dead_pi = dc_clean[(dc_clean['ALIGN'] == 'Bad Characters') & (dc_clean['SEX'] == 'Female Characters')\n",
    "                                & (dc_clean['ALIVE'] == 'Dead Characters') & (dc_clean['ID'] == 'Public Identity')\n",
    "                                ]"
   ]
  },
  {
   "cell_type": "code",
   "execution_count": 243,
   "metadata": {},
   "outputs": [
    {
     "data": {
      "text/html": [
       "<div>\n",
       "<style scoped>\n",
       "    .dataframe tbody tr th:only-of-type {\n",
       "        vertical-align: middle;\n",
       "    }\n",
       "\n",
       "    .dataframe tbody tr th {\n",
       "        vertical-align: top;\n",
       "    }\n",
       "\n",
       "    .dataframe thead th {\n",
       "        text-align: right;\n",
       "    }\n",
       "</style>\n",
       "<table border=\"1\" class=\"dataframe\">\n",
       "  <thead>\n",
       "    <tr style=\"text-align: right;\">\n",
       "      <th></th>\n",
       "      <th>name</th>\n",
       "      <th>ID</th>\n",
       "      <th>ALIGN</th>\n",
       "      <th>SEX</th>\n",
       "      <th>ALIVE</th>\n",
       "      <th>Universe</th>\n",
       "    </tr>\n",
       "  </thead>\n",
       "  <tbody>\n",
       "  </tbody>\n",
       "</table>\n",
       "</div>"
      ],
      "text/plain": [
       "Empty DataFrame\n",
       "Columns: [name, ID, ALIGN, SEX, ALIVE, Universe]\n",
       "Index: []"
      ]
     },
     "execution_count": 243,
     "metadata": {},
     "output_type": "execute_result"
    }
   ],
   "source": [
    "dc_bad_female_dead_pi"
   ]
  },
  {
   "cell_type": "code",
   "execution_count": 244,
   "metadata": {},
   "outputs": [],
   "source": [
    "#Characters that from the DC universe who are bad, female, dead with a public identity"
   ]
  },
  {
   "cell_type": "code",
   "execution_count": 245,
   "metadata": {},
   "outputs": [],
   "source": [
    "dc_bad_female_dead_si = dc_clean[(dc_clean['ALIGN'] == 'Bad Characters') & (dc_clean['SEX'] == 'Female Characters')\n",
    "                                & (dc_clean['ALIVE'] == 'Dead Characters') & (dc_clean['ID'] == 'Secret Identity')\n",
    "                                ]"
   ]
  },
  {
   "cell_type": "code",
   "execution_count": 246,
   "metadata": {},
   "outputs": [
    {
     "data": {
      "text/html": [
       "<div>\n",
       "<style scoped>\n",
       "    .dataframe tbody tr th:only-of-type {\n",
       "        vertical-align: middle;\n",
       "    }\n",
       "\n",
       "    .dataframe tbody tr th {\n",
       "        vertical-align: top;\n",
       "    }\n",
       "\n",
       "    .dataframe thead th {\n",
       "        text-align: right;\n",
       "    }\n",
       "</style>\n",
       "<table border=\"1\" class=\"dataframe\">\n",
       "  <thead>\n",
       "    <tr style=\"text-align: right;\">\n",
       "      <th></th>\n",
       "      <th>name</th>\n",
       "      <th>ID</th>\n",
       "      <th>ALIGN</th>\n",
       "      <th>SEX</th>\n",
       "      <th>ALIVE</th>\n",
       "      <th>Universe</th>\n",
       "    </tr>\n",
       "  </thead>\n",
       "  <tbody>\n",
       "  </tbody>\n",
       "</table>\n",
       "</div>"
      ],
      "text/plain": [
       "Empty DataFrame\n",
       "Columns: [name, ID, ALIGN, SEX, ALIVE, Universe]\n",
       "Index: []"
      ]
     },
     "execution_count": 246,
     "metadata": {},
     "output_type": "execute_result"
    }
   ],
   "source": [
    "dc_bad_female_dead_si"
   ]
  }
 ],
 "metadata": {
  "kernelspec": {
   "display_name": "Python 3",
   "language": "python",
   "name": "python3"
  },
  "language_info": {
   "codemirror_mode": {
    "name": "ipython",
    "version": 3
   },
   "file_extension": ".py",
   "mimetype": "text/x-python",
   "name": "python",
   "nbconvert_exporter": "python",
   "pygments_lexer": "ipython3",
   "version": "3.7.6"
  }
 },
 "nbformat": 4,
 "nbformat_minor": 4
}
